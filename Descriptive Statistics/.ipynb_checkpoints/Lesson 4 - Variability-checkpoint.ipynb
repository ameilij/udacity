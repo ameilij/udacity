{
 "cells": [
  {
   "cell_type": "markdown",
   "metadata": {},
   "source": [
    "# Lesson 4: Variability\n",
    "\n",
    "Two normal distributions could have similar shape, median, mode, mean. Sometimes it helps to check for range. \n",
    "\n",
    "> RANGE = MAX - MIN\n",
    "\n",
    "The range is how spread the data is. \n",
    "\n",
    "The range sometimes changes when we add data to the data set. The extremes are not representative but determine the range. It happens with outliers. Statistics cut the data set in quartiles. \n",
    "\n",
    "A quartile is a type of quantile which divides the number of data points into four more or less equal parts, or quarters. The first quartile (Q1) is defined as the middle number between the smallest number and the median of the data set. It is also known as the lower quartile or the 25th empirical quartile and it marks where 25% of the data is below or to the left of it (if data is ordered on a timeline from smallest to largest). The second quartile (Q2) is the median of a data set and 50% of the data lies below this point. The third quartile (Q3) is the middle value between the median and the highest value of the data set. It is also known as the upper quartile or the 75th empirical quartile and 75% of the data lies below this point. Due to the fact that the data needs to be ordered from smallest to largest in order to compute quartiles, quartiles are a form of Order statistic.\n",
    "\n",
    "Along with the minimum and the maximum of the data, which are also quartiles, the three quartiles described above provide a five-number summary of the data.  This summary is important in statistics because it provides information about both the center and the spread of the data. Knowing the lower and upper quartile provides information on how big the spread is and if the dataset is skewed toward one side. Since quartiles divide the number of data points evenly, the range is not the same between quartiles (ie. Q3-Q2 ≠ Q2-Q1). While the maximum and minimum also show the spread of the data, the upper and lower quartiles can provide more detailed information on the location of specific data points, the presence of outliers in the data, and the difference in spread between the middle 50% of the data and the outer data points.\n",
    "\n",
    "![](statistics-101-04-quartiles-3.png)\n",
    "\n",
    "The region where Q3 - Q1 is called the **interquantile range (IQR)**. \n",
    "* About 50% of the data falls within the IQR, specially in large data sets.\n",
    "* The IQR is not affected by outlier values. "
   ]
  },
  {
   "cell_type": "code",
   "execution_count": 4,
   "metadata": {},
   "outputs": [
    {
     "name": "stdout",
     "output_type": "stream",
     "text": [
      "Summary Stats:\n",
      "Length:         10\n",
      "Missing Count:  0\n",
      "Mean:           52793.800000\n",
      "Minimum:        33219.000000\n",
      "1st Quartile:   40684.500000\n",
      "Median:         47218.000000\n",
      "3rd Quartile:   56429.750000\n",
      "Maximum:        88830.000000\n",
      "Type:           Int64\n"
     ]
    }
   ],
   "source": [
    "using StatsBase\n",
    "my_sample = [33219, 36254, 38801, 46335, 46840, 47596, 55130, 56863, 78070, 88830]\n",
    "describe(my_sample)"
   ]
  },
  {
   "cell_type": "markdown",
   "metadata": {},
   "source": [
    "## Outliers\n",
    "Outliers have very specific values:\n",
    "\n",
    "$< Q1 - 1.5(IQR)$\n",
    "\n",
    "$> Q3 + 1.5(IQR)$\n",
    "\n",
    "The mean will not always be inside the IQR. For example, it's inside a normal distribution but not inside a bimodal distribution. \n",
    "\n",
    "![](IQR.jpg)"
   ]
  },
  {
   "cell_type": "markdown",
   "metadata": {},
   "source": [
    "## Boxplots\n",
    "Boxplots make reading quartiles easy. \n",
    "\n",
    "![](boxplot.jpg)\n"
   ]
  },
  {
   "cell_type": "code",
   "execution_count": 5,
   "metadata": {},
   "outputs": [
    {
     "data": {
      "image/svg+xml": [
       "<?xml version=\"1.0\" encoding=\"utf-8\"?>\n",
       "<svg xmlns=\"http://www.w3.org/2000/svg\" xmlns:xlink=\"http://www.w3.org/1999/xlink\" width=\"600\" height=\"400\" viewBox=\"0 0 2400 1600\">\n",
       "<defs>\n",
       "  <clipPath id=\"clip590\">\n",
       "    <rect x=\"0\" y=\"0\" width=\"2400\" height=\"1600\"/>\n",
       "  </clipPath>\n",
       "</defs>\n",
       "<path clip-path=\"url(#clip590)\" d=\"\n",
       "M0 1600 L2400 1600 L2400 0 L0 0  Z\n",
       "  \" fill=\"#ffffff\" fill-rule=\"evenodd\" fill-opacity=\"1\"/>\n",
       "<defs>\n",
       "  <clipPath id=\"clip591\">\n",
       "    <rect x=\"480\" y=\"0\" width=\"1681\" height=\"1600\"/>\n",
       "  </clipPath>\n",
       "</defs>\n",
       "<path clip-path=\"url(#clip590)\" d=\"\n",
       "M215.718 1486.45 L2352.76 1486.45 L2352.76 47.2441 L215.718 47.2441  Z\n",
       "  \" fill=\"#ffffff\" fill-rule=\"evenodd\" fill-opacity=\"1\"/>\n",
       "<defs>\n",
       "  <clipPath id=\"clip592\">\n",
       "    <rect x=\"215\" y=\"47\" width=\"2138\" height=\"1440\"/>\n",
       "  </clipPath>\n",
       "</defs>\n",
       "<polyline clip-path=\"url(#clip592)\" style=\"stroke:#000000; stroke-width:2; stroke-opacity:0.1; fill:none\" points=\"\n",
       "  276.2,1486.45 276.2,47.2441 \n",
       "  \"/>\n",
       "<polyline clip-path=\"url(#clip592)\" style=\"stroke:#000000; stroke-width:2; stroke-opacity:0.1; fill:none\" points=\"\n",
       "  780.219,1486.45 780.219,47.2441 \n",
       "  \"/>\n",
       "<polyline clip-path=\"url(#clip592)\" style=\"stroke:#000000; stroke-width:2; stroke-opacity:0.1; fill:none\" points=\"\n",
       "  1284.24,1486.45 1284.24,47.2441 \n",
       "  \"/>\n",
       "<polyline clip-path=\"url(#clip592)\" style=\"stroke:#000000; stroke-width:2; stroke-opacity:0.1; fill:none\" points=\"\n",
       "  1788.26,1486.45 1788.26,47.2441 \n",
       "  \"/>\n",
       "<polyline clip-path=\"url(#clip592)\" style=\"stroke:#000000; stroke-width:2; stroke-opacity:0.1; fill:none\" points=\"\n",
       "  2292.27,1486.45 2292.27,47.2441 \n",
       "  \"/>\n",
       "<polyline clip-path=\"url(#clip592)\" style=\"stroke:#000000; stroke-width:2; stroke-opacity:0.1; fill:none\" points=\"\n",
       "  215.718,1280.16 2352.76,1280.16 \n",
       "  \"/>\n",
       "<polyline clip-path=\"url(#clip592)\" style=\"stroke:#000000; stroke-width:2; stroke-opacity:0.1; fill:none\" points=\"\n",
       "  215.718,1036.01 2352.76,1036.01 \n",
       "  \"/>\n",
       "<polyline clip-path=\"url(#clip592)\" style=\"stroke:#000000; stroke-width:2; stroke-opacity:0.1; fill:none\" points=\"\n",
       "  215.718,791.859 2352.76,791.859 \n",
       "  \"/>\n",
       "<polyline clip-path=\"url(#clip592)\" style=\"stroke:#000000; stroke-width:2; stroke-opacity:0.1; fill:none\" points=\"\n",
       "  215.718,547.71 2352.76,547.71 \n",
       "  \"/>\n",
       "<polyline clip-path=\"url(#clip592)\" style=\"stroke:#000000; stroke-width:2; stroke-opacity:0.1; fill:none\" points=\"\n",
       "  215.718,303.56 2352.76,303.56 \n",
       "  \"/>\n",
       "<polyline clip-path=\"url(#clip592)\" style=\"stroke:#000000; stroke-width:2; stroke-opacity:0.1; fill:none\" points=\"\n",
       "  215.718,59.4108 2352.76,59.4108 \n",
       "  \"/>\n",
       "<polyline clip-path=\"url(#clip590)\" style=\"stroke:#000000; stroke-width:4; stroke-opacity:1; fill:none\" points=\"\n",
       "  215.718,1486.45 2352.76,1486.45 \n",
       "  \"/>\n",
       "<polyline clip-path=\"url(#clip590)\" style=\"stroke:#000000; stroke-width:4; stroke-opacity:1; fill:none\" points=\"\n",
       "  215.718,1486.45 215.718,47.2441 \n",
       "  \"/>\n",
       "<polyline clip-path=\"url(#clip590)\" style=\"stroke:#000000; stroke-width:4; stroke-opacity:1; fill:none\" points=\"\n",
       "  276.2,1486.45 276.2,1469.18 \n",
       "  \"/>\n",
       "<polyline clip-path=\"url(#clip590)\" style=\"stroke:#000000; stroke-width:4; stroke-opacity:1; fill:none\" points=\"\n",
       "  780.219,1486.45 780.219,1469.18 \n",
       "  \"/>\n",
       "<polyline clip-path=\"url(#clip590)\" style=\"stroke:#000000; stroke-width:4; stroke-opacity:1; fill:none\" points=\"\n",
       "  1284.24,1486.45 1284.24,1469.18 \n",
       "  \"/>\n",
       "<polyline clip-path=\"url(#clip590)\" style=\"stroke:#000000; stroke-width:4; stroke-opacity:1; fill:none\" points=\"\n",
       "  1788.26,1486.45 1788.26,1469.18 \n",
       "  \"/>\n",
       "<polyline clip-path=\"url(#clip590)\" style=\"stroke:#000000; stroke-width:4; stroke-opacity:1; fill:none\" points=\"\n",
       "  2292.27,1486.45 2292.27,1469.18 \n",
       "  \"/>\n",
       "<polyline clip-path=\"url(#clip590)\" style=\"stroke:#000000; stroke-width:4; stroke-opacity:1; fill:none\" points=\"\n",
       "  215.718,1280.16 241.363,1280.16 \n",
       "  \"/>\n",
       "<polyline clip-path=\"url(#clip590)\" style=\"stroke:#000000; stroke-width:4; stroke-opacity:1; fill:none\" points=\"\n",
       "  215.718,1036.01 241.363,1036.01 \n",
       "  \"/>\n",
       "<polyline clip-path=\"url(#clip590)\" style=\"stroke:#000000; stroke-width:4; stroke-opacity:1; fill:none\" points=\"\n",
       "  215.718,791.859 241.363,791.859 \n",
       "  \"/>\n",
       "<polyline clip-path=\"url(#clip590)\" style=\"stroke:#000000; stroke-width:4; stroke-opacity:1; fill:none\" points=\"\n",
       "  215.718,547.71 241.363,547.71 \n",
       "  \"/>\n",
       "<polyline clip-path=\"url(#clip590)\" style=\"stroke:#000000; stroke-width:4; stroke-opacity:1; fill:none\" points=\"\n",
       "  215.718,303.56 241.363,303.56 \n",
       "  \"/>\n",
       "<polyline clip-path=\"url(#clip590)\" style=\"stroke:#000000; stroke-width:4; stroke-opacity:1; fill:none\" points=\"\n",
       "  215.718,59.4108 241.363,59.4108 \n",
       "  \"/>\n",
       "<path clip-path=\"url(#clip590)\" d=\"M 0 0 M257.636 1508.44 Q254.025 1508.44 252.196 1512 Q250.39 1515.55 250.39 1522.67 Q250.39 1529.78 252.196 1533.35 Q254.025 1536.89 257.636 1536.89 Q261.27 1536.89 263.076 1533.35 Q264.904 1529.78 264.904 1522.67 Q264.904 1515.55 263.076 1512 Q261.27 1508.44 257.636 1508.44 M257.636 1504.73 Q263.446 1504.73 266.501 1509.34 Q269.58 1513.92 269.58 1522.67 Q269.58 1531.4 266.501 1536.01 Q263.446 1540.59 257.636 1540.59 Q251.826 1540.59 248.747 1536.01 Q245.691 1531.4 245.691 1522.67 Q245.691 1513.92 248.747 1509.34 Q251.826 1504.73 257.636 1504.73 Z\" fill=\"#000000\" fill-rule=\"evenodd\" fill-opacity=\"1\" /><path clip-path=\"url(#clip590)\" d=\"M 0 0 M274.65 1534.04 L279.534 1534.04 L279.534 1539.92 L274.65 1539.92 L274.65 1534.04 Z\" fill=\"#000000\" fill-rule=\"evenodd\" fill-opacity=\"1\" /><path clip-path=\"url(#clip590)\" d=\"M 0 0 M295.182 1520.78 Q292.034 1520.78 290.182 1522.93 Q288.353 1525.08 288.353 1528.83 Q288.353 1532.56 290.182 1534.73 Q292.034 1536.89 295.182 1536.89 Q298.33 1536.89 300.159 1534.73 Q302.011 1532.56 302.011 1528.83 Q302.011 1525.08 300.159 1522.93 Q298.33 1520.78 295.182 1520.78 M304.464 1506.12 L304.464 1510.38 Q302.705 1509.55 300.899 1509.11 Q299.117 1508.67 297.358 1508.67 Q292.728 1508.67 290.274 1511.8 Q287.844 1514.92 287.497 1521.24 Q288.862 1519.23 290.923 1518.16 Q292.983 1517.07 295.46 1517.07 Q300.668 1517.07 303.677 1520.24 Q306.71 1523.39 306.71 1528.83 Q306.71 1534.16 303.561 1537.37 Q300.413 1540.59 295.182 1540.59 Q289.187 1540.59 286.015 1536.01 Q282.844 1531.4 282.844 1522.67 Q282.844 1514.48 286.733 1509.62 Q290.622 1504.73 297.173 1504.73 Q298.932 1504.73 300.714 1505.08 Q302.52 1505.43 304.464 1506.12 Z\" fill=\"#000000\" fill-rule=\"evenodd\" fill-opacity=\"1\" /><path clip-path=\"url(#clip590)\" d=\"M 0 0 M761.781 1508.44 Q758.17 1508.44 756.342 1512 Q754.536 1515.55 754.536 1522.67 Q754.536 1529.78 756.342 1533.35 Q758.17 1536.89 761.781 1536.89 Q765.416 1536.89 767.221 1533.35 Q769.05 1529.78 769.05 1522.67 Q769.05 1515.55 767.221 1512 Q765.416 1508.44 761.781 1508.44 M761.781 1504.73 Q767.592 1504.73 770.647 1509.34 Q773.726 1513.92 773.726 1522.67 Q773.726 1531.4 770.647 1536.01 Q767.592 1540.59 761.781 1540.59 Q755.971 1540.59 752.893 1536.01 Q749.837 1531.4 749.837 1522.67 Q749.837 1513.92 752.893 1509.34 Q755.971 1504.73 761.781 1504.73 Z\" fill=\"#000000\" fill-rule=\"evenodd\" fill-opacity=\"1\" /><path clip-path=\"url(#clip590)\" d=\"M 0 0 M778.795 1534.04 L783.679 1534.04 L783.679 1539.92 L778.795 1539.92 L778.795 1534.04 Z\" fill=\"#000000\" fill-rule=\"evenodd\" fill-opacity=\"1\" /><path clip-path=\"url(#clip590)\" d=\"M 0 0 M798.749 1523.51 Q795.415 1523.51 793.494 1525.29 Q791.596 1527.07 791.596 1530.2 Q791.596 1533.32 793.494 1535.11 Q795.415 1536.89 798.749 1536.89 Q802.082 1536.89 804.003 1535.11 Q805.925 1533.3 805.925 1530.2 Q805.925 1527.07 804.003 1525.29 Q802.105 1523.51 798.749 1523.51 M794.073 1521.52 Q791.064 1520.78 789.374 1518.72 Q787.707 1516.66 787.707 1513.69 Q787.707 1509.55 790.647 1507.14 Q793.61 1504.73 798.749 1504.73 Q803.911 1504.73 806.851 1507.14 Q809.79 1509.55 809.79 1513.69 Q809.79 1516.66 808.101 1518.72 Q806.434 1520.78 803.448 1521.52 Q806.827 1522.3 808.702 1524.6 Q810.601 1526.89 810.601 1530.2 Q810.601 1535.22 807.522 1537.91 Q804.466 1540.59 798.749 1540.59 Q793.031 1540.59 789.953 1537.91 Q786.897 1535.22 786.897 1530.2 Q786.897 1526.89 788.795 1524.6 Q790.693 1522.3 794.073 1521.52 M792.36 1514.13 Q792.36 1516.82 794.027 1518.32 Q795.716 1519.83 798.749 1519.83 Q801.758 1519.83 803.448 1518.32 Q805.161 1516.82 805.161 1514.13 Q805.161 1511.45 803.448 1509.94 Q801.758 1508.44 798.749 1508.44 Q795.716 1508.44 794.027 1509.94 Q792.36 1511.45 792.36 1514.13 Z\" fill=\"#000000\" fill-rule=\"evenodd\" fill-opacity=\"1\" /><path clip-path=\"url(#clip590)\" d=\"M 0 0 M1256.14 1535.98 L1263.77 1535.98 L1263.77 1509.62 L1255.46 1511.29 L1255.46 1507.03 L1263.73 1505.36 L1268.4 1505.36 L1268.4 1535.98 L1276.04 1535.98 L1276.04 1539.92 L1256.14 1539.92 L1256.14 1535.98 Z\" fill=\"#000000\" fill-rule=\"evenodd\" fill-opacity=\"1\" /><path clip-path=\"url(#clip590)\" d=\"M 0 0 M1281.11 1534.04 L1286 1534.04 L1286 1539.92 L1281.11 1539.92 L1281.11 1534.04 Z\" fill=\"#000000\" fill-rule=\"evenodd\" fill-opacity=\"1\" /><path clip-path=\"url(#clip590)\" d=\"M 0 0 M1301.07 1508.44 Q1297.45 1508.44 1295.63 1512 Q1293.82 1515.55 1293.82 1522.67 Q1293.82 1529.78 1295.63 1533.35 Q1297.45 1536.89 1301.07 1536.89 Q1304.7 1536.89 1306.51 1533.35 Q1308.33 1529.78 1308.33 1522.67 Q1308.33 1515.55 1306.51 1512 Q1304.7 1508.44 1301.07 1508.44 M1301.07 1504.73 Q1306.88 1504.73 1309.93 1509.34 Q1313.01 1513.92 1313.01 1522.67 Q1313.01 1531.4 1309.93 1536.01 Q1306.88 1540.59 1301.07 1540.59 Q1295.26 1540.59 1292.18 1536.01 Q1289.12 1531.4 1289.12 1522.67 Q1289.12 1513.92 1292.18 1509.34 Q1295.26 1504.73 1301.07 1504.73 Z\" fill=\"#000000\" fill-rule=\"evenodd\" fill-opacity=\"1\" /><path clip-path=\"url(#clip590)\" d=\"M 0 0 M1760.95 1535.98 L1768.59 1535.98 L1768.59 1509.62 L1760.28 1511.29 L1760.28 1507.03 L1768.54 1505.36 L1773.22 1505.36 L1773.22 1535.98 L1780.86 1535.98 L1780.86 1539.92 L1760.95 1539.92 L1760.95 1535.98 Z\" fill=\"#000000\" fill-rule=\"evenodd\" fill-opacity=\"1\" /><path clip-path=\"url(#clip590)\" d=\"M 0 0 M1785.93 1534.04 L1790.81 1534.04 L1790.81 1539.92 L1785.93 1539.92 L1785.93 1534.04 Z\" fill=\"#000000\" fill-rule=\"evenodd\" fill-opacity=\"1\" /><path clip-path=\"url(#clip590)\" d=\"M 0 0 M1799.91 1535.98 L1816.23 1535.98 L1816.23 1539.92 L1794.29 1539.92 L1794.29 1535.98 Q1796.95 1533.23 1801.53 1528.6 Q1806.14 1523.95 1807.32 1522.61 Q1809.56 1520.08 1810.44 1518.35 Q1811.35 1516.59 1811.35 1514.9 Q1811.35 1512.14 1809.4 1510.41 Q1807.48 1508.67 1804.38 1508.67 Q1802.18 1508.67 1799.73 1509.43 Q1797.29 1510.2 1794.52 1511.75 L1794.52 1507.03 Q1797.34 1505.89 1799.79 1505.31 Q1802.25 1504.73 1804.29 1504.73 Q1809.66 1504.73 1812.85 1507.42 Q1816.04 1510.11 1816.04 1514.6 Q1816.04 1516.73 1815.23 1518.65 Q1814.45 1520.54 1812.34 1523.14 Q1811.76 1523.81 1808.66 1527.03 Q1805.56 1530.22 1799.91 1535.98 Z\" fill=\"#000000\" fill-rule=\"evenodd\" fill-opacity=\"1\" /><path clip-path=\"url(#clip590)\" d=\"M 0 0 M2263.93 1535.98 L2271.57 1535.98 L2271.57 1509.62 L2263.26 1511.29 L2263.26 1507.03 L2271.52 1505.36 L2276.2 1505.36 L2276.2 1535.98 L2283.84 1535.98 L2283.84 1539.92 L2263.93 1539.92 L2263.93 1535.98 Z\" fill=\"#000000\" fill-rule=\"evenodd\" fill-opacity=\"1\" /><path clip-path=\"url(#clip590)\" d=\"M 0 0 M2288.91 1534.04 L2293.79 1534.04 L2293.79 1539.92 L2288.91 1539.92 L2288.91 1534.04 Z\" fill=\"#000000\" fill-rule=\"evenodd\" fill-opacity=\"1\" /><path clip-path=\"url(#clip590)\" d=\"M 0 0 M2311.71 1509.43 L2299.9 1527.88 L2311.71 1527.88 L2311.71 1509.43 M2310.48 1505.36 L2316.36 1505.36 L2316.36 1527.88 L2321.29 1527.88 L2321.29 1531.77 L2316.36 1531.77 L2316.36 1539.92 L2311.71 1539.92 L2311.71 1531.77 L2296.1 1531.77 L2296.1 1527.26 L2310.48 1505.36 Z\" fill=\"#000000\" fill-rule=\"evenodd\" fill-opacity=\"1\" /><path clip-path=\"url(#clip590)\" d=\"M 0 0 M75.6309 1273.4 L63.8255 1291.85 L75.6309 1291.85 L75.6309 1273.4 M74.4041 1269.33 L80.2837 1269.33 L80.2837 1291.85 L85.2142 1291.85 L85.2142 1295.74 L80.2837 1295.74 L80.2837 1303.89 L75.6309 1303.89 L75.6309 1295.74 L60.0292 1295.74 L60.0292 1291.22 L74.4041 1269.33 Z\" fill=\"#000000\" fill-rule=\"evenodd\" fill-opacity=\"1\" /><path clip-path=\"url(#clip590)\" d=\"M 0 0 M118.455 1278.42 L107.876 1289.05 L118.455 1299.63 L115.7 1302.43 L105.075 1291.8 L94.4503 1302.43 L91.7188 1299.63 L102.274 1289.05 L91.7188 1278.42 L94.4503 1275.62 L105.075 1286.25 L115.7 1275.62 L118.455 1278.42 Z\" fill=\"#000000\" fill-rule=\"evenodd\" fill-opacity=\"1\" /><path clip-path=\"url(#clip590)\" d=\"M 0 0 M124.334 1299.95 L131.973 1299.95 L131.973 1273.58 L123.663 1275.25 L123.663 1270.99 L131.927 1269.33 L136.603 1269.33 L136.603 1299.95 L144.242 1299.95 L144.242 1303.89 L124.334 1303.89 L124.334 1299.95 Z\" fill=\"#000000\" fill-rule=\"evenodd\" fill-opacity=\"1\" /><path clip-path=\"url(#clip590)\" d=\"M 0 0 M159.311 1272.4 Q155.7 1272.4 153.871 1275.97 Q152.066 1279.51 152.066 1286.64 Q152.066 1293.75 153.871 1297.31 Q155.7 1300.85 159.311 1300.85 Q162.945 1300.85 164.751 1297.31 Q166.58 1293.75 166.58 1286.64 Q166.58 1279.51 164.751 1275.97 Q162.945 1272.4 159.311 1272.4 M159.311 1268.7 Q165.121 1268.7 168.177 1273.31 Q171.255 1277.89 171.255 1286.64 Q171.255 1295.37 168.177 1299.97 Q165.121 1304.56 159.311 1304.56 Q153.501 1304.56 150.422 1299.97 Q147.367 1295.37 147.367 1286.64 Q147.367 1277.89 150.422 1273.31 Q153.501 1268.7 159.311 1268.7 Z\" fill=\"#000000\" fill-rule=\"evenodd\" fill-opacity=\"1\" /><path clip-path=\"url(#clip590)\" d=\"M 0 0 M183.932 1251.71 L174.34 1266.7 L183.932 1266.7 L183.932 1251.71 M182.935 1248.4 L187.712 1248.4 L187.712 1266.7 L191.718 1266.7 L191.718 1269.85 L187.712 1269.85 L187.712 1276.48 L183.932 1276.48 L183.932 1269.85 L171.255 1269.85 L171.255 1266.19 L182.935 1248.4 Z\" fill=\"#000000\" fill-rule=\"evenodd\" fill-opacity=\"1\" /><path clip-path=\"url(#clip590)\" d=\"M 0 0 M64.3116 1025.18 L82.6679 1025.18 L82.6679 1029.11 L68.5939 1029.11 L68.5939 1037.58 Q69.6125 1037.24 70.631 1037.07 Q71.6495 1036.89 72.668 1036.89 Q78.455 1036.89 81.8346 1040.06 Q85.2142 1043.23 85.2142 1048.65 Q85.2142 1054.23 81.742 1057.33 Q78.2698 1060.41 71.9504 1060.41 Q69.7745 1060.41 67.506 1060.04 Q65.2606 1059.67 62.8532 1058.93 L62.8532 1054.23 Q64.9366 1055.36 67.1588 1055.92 Q69.381 1056.47 71.8578 1056.47 Q75.8624 1056.47 78.2004 1054.37 Q80.5383 1052.26 80.5383 1048.65 Q80.5383 1045.04 78.2004 1042.93 Q75.8624 1040.82 71.8578 1040.82 Q69.9828 1040.82 68.1078 1041.24 Q66.256 1041.66 64.3116 1042.54 L64.3116 1025.18 Z\" fill=\"#000000\" fill-rule=\"evenodd\" fill-opacity=\"1\" /><path clip-path=\"url(#clip590)\" d=\"M 0 0 M118.455 1034.27 L107.876 1044.9 L118.455 1055.48 L115.7 1058.28 L105.075 1047.65 L94.4503 1058.28 L91.7188 1055.48 L102.274 1044.9 L91.7188 1034.27 L94.4503 1031.47 L105.075 1042.1 L115.7 1031.47 L118.455 1034.27 Z\" fill=\"#000000\" fill-rule=\"evenodd\" fill-opacity=\"1\" /><path clip-path=\"url(#clip590)\" d=\"M 0 0 M124.334 1055.8 L131.973 1055.8 L131.973 1029.44 L123.663 1031.1 L123.663 1026.84 L131.927 1025.18 L136.603 1025.18 L136.603 1055.8 L144.242 1055.8 L144.242 1059.74 L124.334 1059.74 L124.334 1055.8 Z\" fill=\"#000000\" fill-rule=\"evenodd\" fill-opacity=\"1\" /><path clip-path=\"url(#clip590)\" d=\"M 0 0 M159.311 1028.25 Q155.7 1028.25 153.871 1031.82 Q152.066 1035.36 152.066 1042.49 Q152.066 1049.6 153.871 1053.16 Q155.7 1056.7 159.311 1056.7 Q162.945 1056.7 164.751 1053.16 Q166.58 1049.6 166.58 1042.49 Q166.58 1035.36 164.751 1031.82 Q162.945 1028.25 159.311 1028.25 M159.311 1024.55 Q165.121 1024.55 168.177 1029.16 Q171.255 1033.74 171.255 1042.49 Q171.255 1051.22 168.177 1055.82 Q165.121 1060.41 159.311 1060.41 Q153.501 1060.41 150.422 1055.82 Q147.367 1051.22 147.367 1042.49 Q147.367 1033.74 150.422 1029.16 Q153.501 1024.55 159.311 1024.55 Z\" fill=\"#000000\" fill-rule=\"evenodd\" fill-opacity=\"1\" /><path clip-path=\"url(#clip590)\" d=\"M 0 0 M183.932 1007.56 L174.34 1022.55 L183.932 1022.55 L183.932 1007.56 M182.935 1004.25 L187.712 1004.25 L187.712 1022.55 L191.718 1022.55 L191.718 1025.71 L187.712 1025.71 L187.712 1032.33 L183.932 1032.33 L183.932 1025.71 L171.255 1025.71 L171.255 1022.04 L182.935 1004.25 Z\" fill=\"#000000\" fill-rule=\"evenodd\" fill-opacity=\"1\" /><path clip-path=\"url(#clip590)\" d=\"M 0 0 M73.6865 796.443 Q70.5384 796.443 68.6865 798.596 Q66.8578 800.749 66.8578 804.499 Q66.8578 808.226 68.6865 810.402 Q70.5384 812.554 73.6865 812.554 Q76.8346 812.554 78.6633 810.402 Q80.5152 808.226 80.5152 804.499 Q80.5152 800.749 78.6633 798.596 Q76.8346 796.443 73.6865 796.443 M82.9689 781.791 L82.9689 786.05 Q81.2096 785.216 79.4041 784.777 Q77.6217 784.337 75.8624 784.337 Q71.2328 784.337 68.7791 787.462 Q66.3486 790.587 66.0014 796.906 Q67.3671 794.892 69.4273 793.828 Q71.4875 792.74 73.9643 792.74 Q79.1726 792.74 82.1818 795.911 Q85.2142 799.059 85.2142 804.499 Q85.2142 809.823 82.0661 813.04 Q78.918 816.258 73.6865 816.258 Q67.6912 816.258 64.5199 811.675 Q61.3486 807.068 61.3486 798.341 Q61.3486 790.147 65.2375 785.286 Q69.1264 780.402 75.6772 780.402 Q77.4365 780.402 79.2189 780.749 Q81.0244 781.096 82.9689 781.791 Z\" fill=\"#000000\" fill-rule=\"evenodd\" fill-opacity=\"1\" /><path clip-path=\"url(#clip590)\" d=\"M 0 0 M118.455 790.124 L107.876 800.749 L118.455 811.327 L115.7 814.128 L105.075 803.503 L94.4503 814.128 L91.7188 811.327 L102.274 800.749 L91.7188 790.124 L94.4503 787.323 L105.075 797.948 L115.7 787.323 L118.455 790.124 Z\" fill=\"#000000\" fill-rule=\"evenodd\" fill-opacity=\"1\" /><path clip-path=\"url(#clip590)\" d=\"M 0 0 M124.334 811.652 L131.973 811.652 L131.973 785.286 L123.663 786.953 L123.663 782.693 L131.927 781.027 L136.603 781.027 L136.603 811.652 L144.242 811.652 L144.242 815.587 L124.334 815.587 L124.334 811.652 Z\" fill=\"#000000\" fill-rule=\"evenodd\" fill-opacity=\"1\" /><path clip-path=\"url(#clip590)\" d=\"M 0 0 M159.311 784.105 Q155.7 784.105 153.871 787.67 Q152.066 791.212 152.066 798.341 Q152.066 805.448 153.871 809.013 Q155.7 812.554 159.311 812.554 Q162.945 812.554 164.751 809.013 Q166.58 805.448 166.58 798.341 Q166.58 791.212 164.751 787.67 Q162.945 784.105 159.311 784.105 M159.311 780.402 Q165.121 780.402 168.177 785.008 Q171.255 789.591 171.255 798.341 Q171.255 807.068 168.177 811.675 Q165.121 816.258 159.311 816.258 Q153.501 816.258 150.422 811.675 Q147.367 807.068 147.367 798.341 Q147.367 789.591 150.422 785.008 Q153.501 780.402 159.311 780.402 Z\" fill=\"#000000\" fill-rule=\"evenodd\" fill-opacity=\"1\" /><path clip-path=\"url(#clip590)\" d=\"M 0 0 M183.932 763.406 L174.34 778.396 L183.932 778.396 L183.932 763.406 M182.935 760.096 L187.712 760.096 L187.712 778.396 L191.718 778.396 L191.718 781.556 L187.712 781.556 L187.712 788.176 L183.932 788.176 L183.932 781.556 L171.255 781.556 L171.255 777.888 L182.935 760.096 Z\" fill=\"#000000\" fill-rule=\"evenodd\" fill-opacity=\"1\" /><path clip-path=\"url(#clip590)\" d=\"M 0 0 M62.9921 536.877 L85.2142 536.877 L85.2142 538.868 L72.668 571.437 L67.7838 571.437 L79.5893 540.812 L62.9921 540.812 L62.9921 536.877 Z\" fill=\"#000000\" fill-rule=\"evenodd\" fill-opacity=\"1\" /><path clip-path=\"url(#clip590)\" d=\"M 0 0 M118.455 545.974 L107.876 556.599 L118.455 567.178 L115.7 569.979 L105.075 559.354 L94.4503 569.979 L91.7188 567.178 L102.274 556.599 L91.7188 545.974 L94.4503 543.174 L105.075 553.798 L115.7 543.174 L118.455 545.974 Z\" fill=\"#000000\" fill-rule=\"evenodd\" fill-opacity=\"1\" /><path clip-path=\"url(#clip590)\" d=\"M 0 0 M124.334 567.502 L131.973 567.502 L131.973 541.136 L123.663 542.803 L123.663 538.544 L131.927 536.877 L136.603 536.877 L136.603 567.502 L144.242 567.502 L144.242 571.437 L124.334 571.437 L124.334 567.502 Z\" fill=\"#000000\" fill-rule=\"evenodd\" fill-opacity=\"1\" /><path clip-path=\"url(#clip590)\" d=\"M 0 0 M159.311 539.956 Q155.7 539.956 153.871 543.521 Q152.066 547.062 152.066 554.192 Q152.066 561.298 153.871 564.863 Q155.7 568.405 159.311 568.405 Q162.945 568.405 164.751 564.863 Q166.58 561.298 166.58 554.192 Q166.58 547.062 164.751 543.521 Q162.945 539.956 159.311 539.956 M159.311 536.252 Q165.121 536.252 168.177 540.859 Q171.255 545.442 171.255 554.192 Q171.255 562.919 168.177 567.525 Q165.121 572.109 159.311 572.109 Q153.501 572.109 150.422 567.525 Q147.367 562.919 147.367 554.192 Q147.367 545.442 150.422 540.859 Q153.501 536.252 159.311 536.252 Z\" fill=\"#000000\" fill-rule=\"evenodd\" fill-opacity=\"1\" /><path clip-path=\"url(#clip590)\" d=\"M 0 0 M183.932 519.257 L174.34 534.247 L183.932 534.247 L183.932 519.257 M182.935 515.947 L187.712 515.947 L187.712 534.247 L191.718 534.247 L191.718 537.407 L187.712 537.407 L187.712 544.027 L183.932 544.027 L183.932 537.407 L171.255 537.407 L171.255 533.739 L182.935 515.947 Z\" fill=\"#000000\" fill-rule=\"evenodd\" fill-opacity=\"1\" /><path clip-path=\"url(#clip590)\" d=\"M 0 0 M73.3624 310.876 Q70.0291 310.876 68.1078 312.658 Q66.2097 314.441 66.2097 317.566 Q66.2097 320.691 68.1078 322.473 Q70.0291 324.255 73.3624 324.255 Q76.6958 324.255 78.617 322.473 Q80.5383 320.667 80.5383 317.566 Q80.5383 314.441 78.617 312.658 Q76.7189 310.876 73.3624 310.876 M68.6865 308.885 Q65.6773 308.144 63.9875 306.084 Q62.3208 304.024 62.3208 301.061 Q62.3208 296.918 65.2606 294.51 Q68.2236 292.103 73.3624 292.103 Q78.5245 292.103 81.4642 294.51 Q84.404 296.918 84.404 301.061 Q84.404 304.024 82.7142 306.084 Q81.0476 308.144 78.0615 308.885 Q81.4411 309.672 83.3161 311.964 Q85.2142 314.255 85.2142 317.566 Q85.2142 322.589 82.1355 325.274 Q79.08 327.959 73.3624 327.959 Q67.6449 327.959 64.5662 325.274 Q61.5107 322.589 61.5107 317.566 Q61.5107 314.255 63.4088 311.964 Q65.3069 309.672 68.6865 308.885 M66.9736 301.501 Q66.9736 304.186 68.6402 305.691 Q70.33 307.195 73.3624 307.195 Q76.3717 307.195 78.0615 305.691 Q79.7744 304.186 79.7744 301.501 Q79.7744 298.816 78.0615 297.311 Q76.3717 295.807 73.3624 295.807 Q70.33 295.807 68.6402 297.311 Q66.9736 298.816 66.9736 301.501 Z\" fill=\"#000000\" fill-rule=\"evenodd\" fill-opacity=\"1\" /><path clip-path=\"url(#clip590)\" d=\"M 0 0 M118.455 301.825 L107.876 312.45 L118.455 323.029 L115.7 325.83 L105.075 315.205 L94.4503 325.83 L91.7188 323.029 L102.274 312.45 L91.7188 301.825 L94.4503 299.024 L105.075 309.649 L115.7 299.024 L118.455 301.825 Z\" fill=\"#000000\" fill-rule=\"evenodd\" fill-opacity=\"1\" /><path clip-path=\"url(#clip590)\" d=\"M 0 0 M124.334 323.353 L131.973 323.353 L131.973 296.987 L123.663 298.654 L123.663 294.394 L131.927 292.728 L136.603 292.728 L136.603 323.353 L144.242 323.353 L144.242 327.288 L124.334 327.288 L124.334 323.353 Z\" fill=\"#000000\" fill-rule=\"evenodd\" fill-opacity=\"1\" /><path clip-path=\"url(#clip590)\" d=\"M 0 0 M159.311 295.807 Q155.7 295.807 153.871 299.371 Q152.066 302.913 152.066 310.043 Q152.066 317.149 153.871 320.714 Q155.7 324.255 159.311 324.255 Q162.945 324.255 164.751 320.714 Q166.58 317.149 166.58 310.043 Q166.58 302.913 164.751 299.371 Q162.945 295.807 159.311 295.807 M159.311 292.103 Q165.121 292.103 168.177 296.709 Q171.255 301.293 171.255 310.043 Q171.255 318.769 168.177 323.376 Q165.121 327.959 159.311 327.959 Q153.501 327.959 150.422 323.376 Q147.367 318.769 147.367 310.043 Q147.367 301.293 150.422 296.709 Q153.501 292.103 159.311 292.103 Z\" fill=\"#000000\" fill-rule=\"evenodd\" fill-opacity=\"1\" /><path clip-path=\"url(#clip590)\" d=\"M 0 0 M183.932 275.108 L174.34 290.097 L183.932 290.097 L183.932 275.108 M182.935 271.797 L187.712 271.797 L187.712 290.097 L191.718 290.097 L191.718 293.257 L187.712 293.257 L187.712 299.877 L183.932 299.877 L183.932 293.257 L171.255 293.257 L171.255 289.59 L182.935 271.797 Z\" fill=\"#000000\" fill-rule=\"evenodd\" fill-opacity=\"1\" /><path clip-path=\"url(#clip590)\" d=\"M 0 0 M63.594 82.4208 L63.594 78.1616 Q65.3532 78.9949 67.1588 79.4347 Q68.9643 79.8745 70.7004 79.8745 Q75.33 79.8745 77.7606 76.7727 Q80.2143 73.6477 80.5615 67.3051 Q79.2189 69.2959 77.1587 70.3607 Q75.0985 71.4255 72.5986 71.4255 Q67.4134 71.4255 64.381 68.3005 Q61.3718 65.1524 61.3718 59.7126 Q61.3718 54.3885 64.5199 51.171 Q67.668 47.9534 72.8995 47.9534 Q78.8948 47.9534 82.0429 52.5599 Q85.2142 57.1432 85.2142 65.8931 Q85.2142 74.0644 81.3254 78.9486 Q77.4596 83.8097 70.9088 83.8097 Q69.1495 83.8097 67.344 83.4625 Q65.5384 83.1152 63.594 82.4208 M72.8995 67.7681 Q76.0476 67.7681 77.8763 65.6153 Q79.7281 63.4626 79.7281 59.7126 Q79.7281 55.9858 77.8763 53.833 Q76.0476 51.6571 72.8995 51.6571 Q69.7513 51.6571 67.8995 53.833 Q66.0708 55.9858 66.0708 59.7126 Q66.0708 63.4626 67.8995 65.6153 Q69.7513 67.7681 72.8995 67.7681 Z\" fill=\"#000000\" fill-rule=\"evenodd\" fill-opacity=\"1\" /><path clip-path=\"url(#clip590)\" d=\"M 0 0 M118.455 57.6756 L107.876 68.3005 L118.455 78.8792 L115.7 81.6801 L105.075 71.0551 L94.4503 81.6801 L91.7188 78.8792 L102.274 68.3005 L91.7188 57.6756 L94.4503 54.8747 L105.075 65.4996 L115.7 54.8747 L118.455 57.6756 Z\" fill=\"#000000\" fill-rule=\"evenodd\" fill-opacity=\"1\" /><path clip-path=\"url(#clip590)\" d=\"M 0 0 M124.334 79.2032 L131.973 79.2032 L131.973 52.8376 L123.663 54.5043 L123.663 50.2451 L131.927 48.5784 L136.603 48.5784 L136.603 79.2032 L144.242 79.2032 L144.242 83.1384 L124.334 83.1384 L124.334 79.2032 Z\" fill=\"#000000\" fill-rule=\"evenodd\" fill-opacity=\"1\" /><path clip-path=\"url(#clip590)\" d=\"M 0 0 M159.311 51.6571 Q155.7 51.6571 153.871 55.2219 Q152.066 58.7635 152.066 65.8931 Q152.066 72.9996 153.871 76.5644 Q155.7 80.106 159.311 80.106 Q162.945 80.106 164.751 76.5644 Q166.58 72.9996 166.58 65.8931 Q166.58 58.7635 164.751 55.2219 Q162.945 51.6571 159.311 51.6571 M159.311 47.9534 Q165.121 47.9534 168.177 52.5599 Q171.255 57.1432 171.255 65.8931 Q171.255 74.6199 168.177 79.2264 Q165.121 83.8097 159.311 83.8097 Q153.501 83.8097 150.422 79.2264 Q147.367 74.6199 147.367 65.8931 Q147.367 57.1432 150.422 52.5599 Q153.501 47.9534 159.311 47.9534 Z\" fill=\"#000000\" fill-rule=\"evenodd\" fill-opacity=\"1\" /><path clip-path=\"url(#clip590)\" d=\"M 0 0 M183.932 30.9582 L174.34 45.948 L183.932 45.948 L183.932 30.9582 M182.935 27.648 L187.712 27.648 L187.712 45.948 L191.718 45.948 L191.718 49.1077 L187.712 49.1077 L187.712 55.728 L183.932 55.728 L183.932 49.1077 L171.255 49.1077 L171.255 45.4401 L182.935 27.648 Z\" fill=\"#000000\" fill-rule=\"evenodd\" fill-opacity=\"1\" /><circle clip-path=\"url(#clip592)\" cx=\"1284.24\" cy=\"87.9763\" r=\"14\" fill=\"#009af9\" fill-rule=\"evenodd\" fill-opacity=\"1\" stroke=\"#000000\" stroke-opacity=\"1\" stroke-width=\"3.2\"/>\n",
       "<path clip-path=\"url(#clip592)\" d=\"\n",
       "M1284.24 1445.72 L276.2 1445.72 L2292.27 1445.72 L1284.24 1445.72 L1284.24 1263.45 L1284.24 1445.72  Z\n",
       "  \" fill=\"#009af9\" fill-rule=\"evenodd\" fill-opacity=\"1\"/>\n",
       "<polyline clip-path=\"url(#clip592)\" style=\"stroke:#000000; stroke-width:4; stroke-opacity:1; fill:none\" points=\"\n",
       "  1284.24,1445.72 276.2,1445.72 2292.27,1445.72 1284.24,1445.72 1284.24,1263.45 1284.24,1445.72 \n",
       "  \"/>\n",
       "<path clip-path=\"url(#clip592)\" d=\"\n",
       "M276.2 1263.45 L276.2 1103.93 L2292.27 1103.93 L2292.27 1263.45 L276.2 1263.45 L276.2 1263.45  Z\n",
       "  \" fill=\"#009af9\" fill-rule=\"evenodd\" fill-opacity=\"1\"/>\n",
       "<polyline clip-path=\"url(#clip592)\" style=\"stroke:#000000; stroke-width:4; stroke-opacity:1; fill:none\" points=\"\n",
       "  276.2,1263.45 276.2,1103.93 2292.27,1103.93 2292.27,1263.45 276.2,1263.45 \n",
       "  \"/>\n",
       "<path clip-path=\"url(#clip592)\" d=\"\n",
       "M276.2 879.027 L276.2 1103.93 L2292.27 1103.93 L2292.27 879.027 L276.2 879.027 L276.2 879.027  Z\n",
       "  \" fill=\"#009af9\" fill-rule=\"evenodd\" fill-opacity=\"1\"/>\n",
       "<polyline clip-path=\"url(#clip592)\" style=\"stroke:#000000; stroke-width:4; stroke-opacity:1; fill:none\" points=\"\n",
       "  276.2,879.027 276.2,1103.93 2292.27,1103.93 2292.27,879.027 276.2,879.027 \n",
       "  \"/>\n",
       "<path clip-path=\"url(#clip592)\" d=\"\n",
       "M1284.24 350.681 L276.2 350.681 L2292.27 350.681 L1284.24 350.681 L1284.24 879.027 L1284.24 350.681  Z\n",
       "  \" fill=\"#009af9\" fill-rule=\"evenodd\" fill-opacity=\"1\"/>\n",
       "<polyline clip-path=\"url(#clip592)\" style=\"stroke:#000000; stroke-width:4; stroke-opacity:1; fill:none\" points=\"\n",
       "  1284.24,350.681 276.2,350.681 2292.27,350.681 1284.24,350.681 1284.24,879.027 1284.24,350.681 \n",
       "  \"/>\n",
       "<path clip-path=\"url(#clip590)\" d=\"\n",
       "M1989.74 251.724 L2280.76 251.724 L2280.76 130.764 L1989.74 130.764  Z\n",
       "  \" fill=\"#ffffff\" fill-rule=\"evenodd\" fill-opacity=\"1\"/>\n",
       "<polyline clip-path=\"url(#clip590)\" style=\"stroke:#000000; stroke-width:4; stroke-opacity:1; fill:none\" points=\"\n",
       "  1989.74,251.724 2280.76,251.724 2280.76,130.764 1989.74,130.764 1989.74,251.724 \n",
       "  \"/>\n",
       "<circle clip-path=\"url(#clip590)\" cx=\"2097.74\" cy=\"191.244\" r=\"23\" fill=\"#009af9\" fill-rule=\"evenodd\" fill-opacity=\"1\" stroke=\"#000000\" stroke-opacity=\"1\" stroke-width=\"5.12\"/>\n",
       "<path clip-path=\"url(#clip590)\" d=\"M 0 0 M2195.58 210.931 Q2193.77 215.561 2192.06 216.973 Q2190.35 218.385 2187.48 218.385 L2184.08 218.385 L2184.08 214.82 L2186.58 214.82 Q2188.33 214.82 2189.31 213.987 Q2190.28 213.154 2191.46 210.052 L2192.22 208.107 L2181.74 182.598 L2186.25 182.598 L2194.35 202.876 L2202.46 182.598 L2206.97 182.598 L2195.58 210.931 Z\" fill=\"#000000\" fill-rule=\"evenodd\" fill-opacity=\"1\" /><path clip-path=\"url(#clip590)\" d=\"M 0 0 M2212.85 204.589 L2220.49 204.589 L2220.49 178.223 L2212.18 179.89 L2212.18 175.631 L2220.44 173.964 L2225.12 173.964 L2225.12 204.589 L2232.76 204.589 L2232.76 208.524 L2212.85 208.524 L2212.85 204.589 Z\" fill=\"#000000\" fill-rule=\"evenodd\" fill-opacity=\"1\" /></svg>\n"
      ]
     },
     "execution_count": 5,
     "metadata": {},
     "output_type": "execute_result"
    }
   ],
   "source": [
    "using StatsPlots\n",
    "boxplot(my_sample)"
   ]
  },
  {
   "cell_type": "markdown",
   "metadata": {},
   "source": [
    "## About Variability\n",
    "Let's define deviation from the mean as: \n",
    "\n",
    "$\\frac{\\Sigma(x_i - \\overline{x})}{n}$\n",
    "\n",
    "With $(x_i - \\overline{x})$ being the column with the result of the deviation for each data point. "
   ]
  },
  {
   "cell_type": "code",
   "execution_count": 21,
   "metadata": {},
   "outputs": [
    {
     "name": "stdout",
     "output_type": "stream",
     "text": [
      "Any[-19574.8, -16539.8, -13992.8, -6458.8, -5953.8, -5197.8, 2336.2, 4069.2, 25276.2, 36036.2]\n",
      "-0.0\n"
     ]
    }
   ],
   "source": [
    "deviation_from_mean = []\n",
    "\n",
    "for i = 1:length(my_sample)\n",
    "    counter = my_sample[i] - mean(my_sample)\n",
    "    append!(deviation_from_mean, counter)\n",
    "end\n",
    "\n",
    "println(deviation_from_mean)\n",
    "\n",
    "total_sum = round(sum(deviation_from_mean),digits=1)\n",
    "println(total_sum)"
   ]
  },
  {
   "cell_type": "markdown",
   "metadata": {},
   "source": [
    "Thus the problem is the deviation from mean is that it evens out with result zero for an average. The average deviation usually cancels out to zero. To better measure the spread we have better formulas. \n",
    "\n",
    "Absolute Deviation :: $\\mid x_i - \\overline{x} \\mid$\n",
    "\n",
    "Average Absolute Deviation :: $\\frac{\\Sigma \\mid x_i - \\overline{x} \\mid}{n}$\n",
    "\n",
    "The **square deviation** is $(x_i - \\overline{x})^2$ and it cancels signage. So the **average square deviation** is:\n",
    "\n",
    "$\\frac{\\Sigma (x_i - \\overline{x})^2}{n}$\n",
    "\n",
    "The portion $\\Sigma (x_i - \\overline{x})^2$ is known as the **sum of squares (SS)**. \n",
    "\n",
    "This mean of squared deviations - or sums of squared deviations divided by n - is the **variance**. In probability theory and statistics, variance is the expectation of the squared deviation of a random variable from its mean. Informally, it measures how far a set of (random) numbers are spread out from their average value. \n",
    "\n"
   ]
  },
  {
   "cell_type": "markdown",
   "metadata": {},
   "source": [
    "## Standard Deviation\n",
    "In statistics, the standard deviation is a measure of the amount of variation or dispersion of a set of values. A low standard deviation indicates that the values tend to be close to the mean (also called the expected value) of the set, while a high standard deviation indicates that the values are spread out over a wider range.\n",
    "\n",
    "The formula for the standard deviation is:\n",
    "\n",
    "$\\sigma = \\sqrt{\\frac{\\Sigma(x_i - \\overline{x})^2}{n}}$\n",
    "\n",
    "Let's see a simple exercise with the data set n = (10,15,20,10).\n"
   ]
  },
  {
   "cell_type": "code",
   "execution_count": null,
   "metadata": {},
   "outputs": [],
   "source": [
    "function prettyprint(a, cnames, rnames=\"\",digits=8, decimals=4)\n",
    "    # TBD: try to use this to allow using specified digits and decimals\n",
    "    #fmt = @sprintf(\"%d\",digits)\".\"@sprintf(\"%d\",decimals)\"%f\"\n",
    "    #@eval dofmt(x) = @sprintf($fmt, x)\n",
    "    \n",
    "    # print column names\n",
    "    for i = 1:size(a,2)\n",
    "        pad = digits\n",
    "        if rnames != \"\" && i==1\n",
    "            pad = 2*digits\n",
    "        end    \n",
    "        @printf(\"%s\", lpad(cnames[i],pad,\" \"))\n",
    "    end\n",
    "    @printf(\"\\n\")\n",
    "    # print the rows\n",
    "    for i = 1:size(a,1)\n",
    "        if rnames != \"\"\n",
    "            @printf(\"%s\", lpad(rnames[i],digits,\" \"))\n",
    "        end\n",
    "        for j = 1:size(a,2)\n",
    "            # TBD: use fmt defined above to print array contents\n",
    "            @printf(\"%8.4f\",(a[i,j]))\n",
    "        end\n",
    "        @printf(\"\\n\")\n",
    "    end    \n",
    "end  \n",
    "\n",
    "num = [10, 15, 20, 10]\n",
    "dev_mean = \n"
   ]
  }
 ],
 "metadata": {
  "kernelspec": {
   "display_name": "Julia 1.0.5",
   "language": "julia",
   "name": "julia-1.0"
  },
  "language_info": {
   "file_extension": ".jl",
   "mimetype": "application/julia",
   "name": "julia",
   "version": "1.0.5"
  }
 },
 "nbformat": 4,
 "nbformat_minor": 2
}
