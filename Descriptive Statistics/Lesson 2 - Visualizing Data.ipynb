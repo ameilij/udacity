{
 "cells": [
  {
   "cell_type": "markdown",
   "metadata": {},
   "source": [
    "#Visualizing Data\n",
    "\n",
    "Let's look at some data.\n",
    "\n",
    "| COUNTRY  | FREQUENCY |\n",
    "|----------|-----------|\n",
    "| Canada   | 2         |\n",
    "| China    | 12        |\n",
    "| England  | 2         |\n",
    "| Germany  | 3         |\n",
    "| India    | 7         |\n",
    "| Japan    | 8         |\n",
    "| Mexico   | 3         |\n",
    "| Pakistan | 1         |\n",
    "| Sweeden  | 1         |\n",
    "| USA      | 10        |\n",
    "\n",
    "How many students are from the US?\n",
    "\n",
    "How many students are from the US, China, or Pakistan?\n",
    "\n",
    "Which two countries have the fewest students?\n",
    "\n",
    "We'll answer these questions using Julia. "
   ]
  },
  {
   "cell_type": "code",
   "execution_count": 30,
   "metadata": {},
   "outputs": [
    {
     "name": "stdout",
     "output_type": "stream",
     "text": [
      "The number of students in the USA is 10\n",
      "The number of students in the USA, China or Pakistan is 23\n",
      "The country of Sweeden has only 1 studentsThe country of Pakistan has only 1 students"
     ]
    }
   ],
   "source": [
    "data = Dict(\"Canada\" => 2, \"China\" => 12, \"England\" => 2, \"Germany\" => 3, \"India\" => 8, \"Japan\" => 8,\n",
    "\"Mexico\" => 3, \"Pakistan\" => 1, \"Sweeden\" => 1, \"USA\" => 10)\n",
    "\n",
    "# Students in the USA\n",
    "students_USA = data[\"USA\"]\n",
    "println(\"The number of students in the USA is $students_USA\")\n",
    "\n",
    "# Students from US, China, or Pakistan\n",
    "students_USChinaPakistan = data[\"USA\"] + data[\"China\"] + data[\"Pakistan\"]\n",
    "println(\"The number of students in the USA, China or Pakistan is $students_USChinaPakistan\")\n",
    "\n",
    "# Countries with least students\n",
    "this_minimum = findmin(data)[1]\n",
    "my_keys = collect(keys(data))\n",
    "\n",
    "for n = 1:length(my_keys)\n",
    "    if data[my_keys[n]] == this_minimum\n",
    "        println(\"The country of $(my_keys[n]) has only $this_minimum students\")\n",
    "    end\n",
    "end\n"
   ]
  },
  {
   "cell_type": "markdown",
   "metadata": {},
   "source": [
    "We call **relative frequency** to the ratio of the total number of occurrences divided by the total number of data points. The number is called a **proportion***. For example we could calculate the relative frequency for China, Germany, and Japan."
   ]
  },
  {
   "cell_type": "code",
   "execution_count": 37,
   "metadata": {},
   "outputs": [
    {
     "name": "stdout",
     "output_type": "stream",
     "text": [
      "The relative frequency of China is 0.24\n",
      "The relative frequency of Germany is 0.06\n",
      "The relative frequency of Japan is 0.16\n"
     ]
    }
   ],
   "source": [
    "rf_China = data[\"China\"]/sum(values(data))\n",
    "rf_Germany = data[\"Germany\"]/sum(values(data))\n",
    "rf_Japan = data[\"Japan\"]/sum(values(data))\n",
    "\n",
    "println(\"The relative frequency of China is $rf_China\")\n",
    "println(\"The relative frequency of Germany is $rf_Germany\")\n",
    "println(\"The relative frequency of Japan is $rf_Japan\")"
   ]
  },
  {
   "cell_type": "markdown",
   "metadata": {},
   "source": [
    "For any table proportions should always add to one. Proportions can be shown as percentages ranging from 0% to 100% . We can further resume the data in a **frequency distribution table**.\n",
    "\n",
    "| CONTINENT     | FREQUENCY | RELATIVE FREQUENCY |\n",
    "|---------------|-----------|--------------------|\n",
    "| North America | 15        | 30%                |\n",
    "| Asia          | 29        | 58%                |\n",
    "| Europe        | 6         | 12%                |\n",
    "\n",
    "\n",
    "A simple way to look at relative tables is with histograms. The buckets or bins give ranges of quantities to measure. Bin size is important for visualization, since adjusting could be useful. Histograms and bar graphs are different. \n",
    "\n",
    "* Bar graphs dont touch because each bin is its own category.\n",
    "\n",
    "* Histograms touch with limiting intervals with order\n",
    "\n",
    "Another important difference is the x-axis of both. For histograms the x-axis is always numerical or quantitative. But for bar graphs the x-axis is categorical or qualitative. \n"
   ]
  },
  {
   "cell_type": "code",
   "execution_count": 3,
   "metadata": {},
   "outputs": [
    {
     "name": "stderr",
     "output_type": "stream",
     "text": [
      "┌ Info: Recompiling stale cache file /Users/ameilij/.julia/compiled/v1.0/Plots/ld3vC.ji for Plots [91a5bcdd-55d7-5caf-9e0b-520d859cae80]\n",
      "└ @ Base loading.jl:1190\n"
     ]
    },
    {
     "data": {
      "image/svg+xml": [
       "<?xml version=\"1.0\" encoding=\"utf-8\"?>\n",
       "<svg xmlns=\"http://www.w3.org/2000/svg\" xmlns:xlink=\"http://www.w3.org/1999/xlink\" width=\"600\" height=\"400\" viewBox=\"0 0 2400 1600\">\n",
       "<defs>\n",
       "  <clipPath id=\"clip190\">\n",
       "    <rect x=\"0\" y=\"0\" width=\"2400\" height=\"1600\"/>\n",
       "  </clipPath>\n",
       "</defs>\n",
       "<path clip-path=\"url(#clip190)\" d=\"\n",
       "M0 1600 L2400 1600 L2400 0 L0 0  Z\n",
       "  \" fill=\"#ffffff\" fill-rule=\"evenodd\" fill-opacity=\"1\"/>\n",
       "<defs>\n",
       "  <clipPath id=\"clip191\">\n",
       "    <rect x=\"480\" y=\"0\" width=\"1681\" height=\"1600\"/>\n",
       "  </clipPath>\n",
       "</defs>\n",
       "<path clip-path=\"url(#clip190)\" d=\"\n",
       "M171.552 1486.45 L2352.76 1486.45 L2352.76 47.2441 L171.552 47.2441  Z\n",
       "  \" fill=\"#ffffff\" fill-rule=\"evenodd\" fill-opacity=\"1\"/>\n",
       "<defs>\n",
       "  <clipPath id=\"clip192\">\n",
       "    <rect x=\"171\" y=\"47\" width=\"2182\" height=\"1440\"/>\n",
       "  </clipPath>\n",
       "</defs>\n",
       "<polyline clip-path=\"url(#clip192)\" style=\"stroke:#000000; stroke-width:2; stroke-opacity:0.1; fill:none\" points=\"\n",
       "  568.845,1486.45 568.845,47.2441 \n",
       "  \"/>\n",
       "<polyline clip-path=\"url(#clip192)\" style=\"stroke:#000000; stroke-width:2; stroke-opacity:0.1; fill:none\" points=\"\n",
       "  1123.49,1486.45 1123.49,47.2441 \n",
       "  \"/>\n",
       "<polyline clip-path=\"url(#clip192)\" style=\"stroke:#000000; stroke-width:2; stroke-opacity:0.1; fill:none\" points=\"\n",
       "  1678.14,1486.45 1678.14,47.2441 \n",
       "  \"/>\n",
       "<polyline clip-path=\"url(#clip192)\" style=\"stroke:#000000; stroke-width:2; stroke-opacity:0.1; fill:none\" points=\"\n",
       "  2232.79,1486.45 2232.79,47.2441 \n",
       "  \"/>\n",
       "<polyline clip-path=\"url(#clip192)\" style=\"stroke:#000000; stroke-width:2; stroke-opacity:0.1; fill:none\" points=\"\n",
       "  171.552,1445.72 2352.76,1445.72 \n",
       "  \"/>\n",
       "<polyline clip-path=\"url(#clip192)\" style=\"stroke:#000000; stroke-width:2; stroke-opacity:0.1; fill:none\" points=\"\n",
       "  171.552,1203.26 2352.76,1203.26 \n",
       "  \"/>\n",
       "<polyline clip-path=\"url(#clip192)\" style=\"stroke:#000000; stroke-width:2; stroke-opacity:0.1; fill:none\" points=\"\n",
       "  171.552,960.809 2352.76,960.809 \n",
       "  \"/>\n",
       "<polyline clip-path=\"url(#clip192)\" style=\"stroke:#000000; stroke-width:2; stroke-opacity:0.1; fill:none\" points=\"\n",
       "  171.552,718.355 2352.76,718.355 \n",
       "  \"/>\n",
       "<polyline clip-path=\"url(#clip192)\" style=\"stroke:#000000; stroke-width:2; stroke-opacity:0.1; fill:none\" points=\"\n",
       "  171.552,475.902 2352.76,475.902 \n",
       "  \"/>\n",
       "<polyline clip-path=\"url(#clip192)\" style=\"stroke:#000000; stroke-width:2; stroke-opacity:0.1; fill:none\" points=\"\n",
       "  171.552,233.448 2352.76,233.448 \n",
       "  \"/>\n",
       "<polyline clip-path=\"url(#clip190)\" style=\"stroke:#000000; stroke-width:4; stroke-opacity:1; fill:none\" points=\"\n",
       "  171.552,1486.45 2352.76,1486.45 \n",
       "  \"/>\n",
       "<polyline clip-path=\"url(#clip190)\" style=\"stroke:#000000; stroke-width:4; stroke-opacity:1; fill:none\" points=\"\n",
       "  171.552,1486.45 171.552,47.2441 \n",
       "  \"/>\n",
       "<polyline clip-path=\"url(#clip190)\" style=\"stroke:#000000; stroke-width:4; stroke-opacity:1; fill:none\" points=\"\n",
       "  568.845,1486.45 568.845,1469.18 \n",
       "  \"/>\n",
       "<polyline clip-path=\"url(#clip190)\" style=\"stroke:#000000; stroke-width:4; stroke-opacity:1; fill:none\" points=\"\n",
       "  1123.49,1486.45 1123.49,1469.18 \n",
       "  \"/>\n",
       "<polyline clip-path=\"url(#clip190)\" style=\"stroke:#000000; stroke-width:4; stroke-opacity:1; fill:none\" points=\"\n",
       "  1678.14,1486.45 1678.14,1469.18 \n",
       "  \"/>\n",
       "<polyline clip-path=\"url(#clip190)\" style=\"stroke:#000000; stroke-width:4; stroke-opacity:1; fill:none\" points=\"\n",
       "  2232.79,1486.45 2232.79,1469.18 \n",
       "  \"/>\n",
       "<polyline clip-path=\"url(#clip190)\" style=\"stroke:#000000; stroke-width:4; stroke-opacity:1; fill:none\" points=\"\n",
       "  171.552,1445.72 197.726,1445.72 \n",
       "  \"/>\n",
       "<polyline clip-path=\"url(#clip190)\" style=\"stroke:#000000; stroke-width:4; stroke-opacity:1; fill:none\" points=\"\n",
       "  171.552,1203.26 197.726,1203.26 \n",
       "  \"/>\n",
       "<polyline clip-path=\"url(#clip190)\" style=\"stroke:#000000; stroke-width:4; stroke-opacity:1; fill:none\" points=\"\n",
       "  171.552,960.809 197.726,960.809 \n",
       "  \"/>\n",
       "<polyline clip-path=\"url(#clip190)\" style=\"stroke:#000000; stroke-width:4; stroke-opacity:1; fill:none\" points=\"\n",
       "  171.552,718.355 197.726,718.355 \n",
       "  \"/>\n",
       "<polyline clip-path=\"url(#clip190)\" style=\"stroke:#000000; stroke-width:4; stroke-opacity:1; fill:none\" points=\"\n",
       "  171.552,475.902 197.726,475.902 \n",
       "  \"/>\n",
       "<polyline clip-path=\"url(#clip190)\" style=\"stroke:#000000; stroke-width:4; stroke-opacity:1; fill:none\" points=\"\n",
       "  171.552,233.448 197.726,233.448 \n",
       "  \"/>\n",
       "<path clip-path=\"url(#clip190)\" d=\"M 0 0 M549.991 1535.98 L566.311 1535.98 L566.311 1539.92 L544.366 1539.92 L544.366 1535.98 Q547.028 1533.23 551.612 1528.6 Q556.218 1523.95 557.399 1522.61 Q559.644 1520.08 560.524 1518.35 Q561.426 1516.59 561.426 1514.9 Q561.426 1512.14 559.482 1510.41 Q557.561 1508.67 554.459 1508.67 Q552.26 1508.67 549.806 1509.43 Q547.376 1510.2 544.598 1511.75 L544.598 1507.03 Q547.422 1505.89 549.876 1505.31 Q552.329 1504.73 554.366 1504.73 Q559.737 1504.73 562.931 1507.42 Q566.125 1510.11 566.125 1514.6 Q566.125 1516.73 565.315 1518.65 Q564.528 1520.54 562.422 1523.14 Q561.843 1523.81 558.741 1527.03 Q555.639 1530.22 549.991 1535.98 Z\" fill=\"#000000\" fill-rule=\"evenodd\" fill-opacity=\"1\" /><path clip-path=\"url(#clip190)\" d=\"M 0 0 M581.38 1508.44 Q577.769 1508.44 575.94 1512 Q574.135 1515.55 574.135 1522.67 Q574.135 1529.78 575.94 1533.35 Q577.769 1536.89 581.38 1536.89 Q585.014 1536.89 586.82 1533.35 Q588.649 1529.78 588.649 1522.67 Q588.649 1515.55 586.82 1512 Q585.014 1508.44 581.38 1508.44 M581.38 1504.73 Q587.19 1504.73 590.246 1509.34 Q593.324 1513.92 593.324 1522.67 Q593.324 1531.4 590.246 1536.01 Q587.19 1540.59 581.38 1540.59 Q575.57 1540.59 572.491 1536.01 Q569.436 1531.4 569.436 1522.67 Q569.436 1513.92 572.491 1509.34 Q575.57 1504.73 581.38 1504.73 Z\" fill=\"#000000\" fill-rule=\"evenodd\" fill-opacity=\"1\" /><path clip-path=\"url(#clip190)\" d=\"M 0 0 M1112.99 1509.43 L1101.19 1527.88 L1112.99 1527.88 L1112.99 1509.43 M1111.77 1505.36 L1117.65 1505.36 L1117.65 1527.88 L1122.58 1527.88 L1122.58 1531.77 L1117.65 1531.77 L1117.65 1539.92 L1112.99 1539.92 L1112.99 1531.77 L1097.39 1531.77 L1097.39 1527.26 L1111.77 1505.36 Z\" fill=\"#000000\" fill-rule=\"evenodd\" fill-opacity=\"1\" /><path clip-path=\"url(#clip190)\" d=\"M 0 0 M1137.65 1508.44 Q1134.04 1508.44 1132.21 1512 Q1130.4 1515.55 1130.4 1522.67 Q1130.4 1529.78 1132.21 1533.35 Q1134.04 1536.89 1137.65 1536.89 Q1141.28 1536.89 1143.09 1533.35 Q1144.92 1529.78 1144.92 1522.67 Q1144.92 1515.55 1143.09 1512 Q1141.28 1508.44 1137.65 1508.44 M1137.65 1504.73 Q1143.46 1504.73 1146.51 1509.34 Q1149.59 1513.92 1149.59 1522.67 Q1149.59 1531.4 1146.51 1536.01 Q1143.46 1540.59 1137.65 1540.59 Q1131.84 1540.59 1128.76 1536.01 Q1125.7 1531.4 1125.7 1522.67 Q1125.7 1513.92 1128.76 1509.34 Q1131.84 1504.73 1137.65 1504.73 Z\" fill=\"#000000\" fill-rule=\"evenodd\" fill-opacity=\"1\" /><path clip-path=\"url(#clip190)\" d=\"M 0 0 M1665.04 1520.78 Q1661.89 1520.78 1660.04 1522.93 Q1658.21 1525.08 1658.21 1528.83 Q1658.21 1532.56 1660.04 1534.73 Q1661.89 1536.89 1665.04 1536.89 Q1668.19 1536.89 1670.01 1534.73 Q1671.87 1532.56 1671.87 1528.83 Q1671.87 1525.08 1670.01 1522.93 Q1668.19 1520.78 1665.04 1520.78 M1674.32 1506.12 L1674.32 1510.38 Q1672.56 1509.55 1670.75 1509.11 Q1668.97 1508.67 1667.21 1508.67 Q1662.58 1508.67 1660.13 1511.8 Q1657.7 1514.92 1657.35 1521.24 Q1658.72 1519.23 1660.78 1518.16 Q1662.84 1517.07 1665.31 1517.07 Q1670.52 1517.07 1673.53 1520.24 Q1676.56 1523.39 1676.56 1528.83 Q1676.56 1534.16 1673.42 1537.37 Q1670.27 1540.59 1665.04 1540.59 Q1659.04 1540.59 1655.87 1536.01 Q1652.7 1531.4 1652.7 1522.67 Q1652.7 1514.48 1656.59 1509.62 Q1660.48 1504.73 1667.03 1504.73 Q1668.79 1504.73 1670.57 1505.08 Q1672.38 1505.43 1674.32 1506.12 Z\" fill=\"#000000\" fill-rule=\"evenodd\" fill-opacity=\"1\" /><path clip-path=\"url(#clip190)\" d=\"M 0 0 M1691.63 1508.44 Q1688.02 1508.44 1686.19 1512 Q1684.39 1515.55 1684.39 1522.67 Q1684.39 1529.78 1686.19 1533.35 Q1688.02 1536.89 1691.63 1536.89 Q1695.27 1536.89 1697.07 1533.35 Q1698.9 1529.78 1698.9 1522.67 Q1698.9 1515.55 1697.07 1512 Q1695.27 1508.44 1691.63 1508.44 M1691.63 1504.73 Q1697.44 1504.73 1700.5 1509.34 Q1703.58 1513.92 1703.58 1522.67 Q1703.58 1531.4 1700.5 1536.01 Q1697.44 1540.59 1691.63 1540.59 Q1685.82 1540.59 1682.75 1536.01 Q1679.69 1531.4 1679.69 1522.67 Q1679.69 1513.92 1682.75 1509.34 Q1685.82 1504.73 1691.63 1504.73 Z\" fill=\"#000000\" fill-rule=\"evenodd\" fill-opacity=\"1\" /><path clip-path=\"url(#clip190)\" d=\"M 0 0 M2219.28 1523.51 Q2215.95 1523.51 2214.02 1525.29 Q2212.13 1527.07 2212.13 1530.2 Q2212.13 1533.32 2214.02 1535.11 Q2215.95 1536.89 2219.28 1536.89 Q2222.61 1536.89 2224.53 1535.11 Q2226.45 1533.3 2226.45 1530.2 Q2226.45 1527.07 2224.53 1525.29 Q2222.64 1523.51 2219.28 1523.51 M2214.6 1521.52 Q2211.59 1520.78 2209.9 1518.72 Q2208.24 1516.66 2208.24 1513.69 Q2208.24 1509.55 2211.18 1507.14 Q2214.14 1504.73 2219.28 1504.73 Q2224.44 1504.73 2227.38 1507.14 Q2230.32 1509.55 2230.32 1513.69 Q2230.32 1516.66 2228.63 1518.72 Q2226.96 1520.78 2223.98 1521.52 Q2227.36 1522.3 2229.23 1524.6 Q2231.13 1526.89 2231.13 1530.2 Q2231.13 1535.22 2228.05 1537.91 Q2225 1540.59 2219.28 1540.59 Q2213.56 1540.59 2210.48 1537.91 Q2207.43 1535.22 2207.43 1530.2 Q2207.43 1526.89 2209.33 1524.6 Q2211.22 1522.3 2214.6 1521.52 M2212.89 1514.13 Q2212.89 1516.82 2214.56 1518.32 Q2216.25 1519.83 2219.28 1519.83 Q2222.29 1519.83 2223.98 1518.32 Q2225.69 1516.82 2225.69 1514.13 Q2225.69 1511.45 2223.98 1509.94 Q2222.29 1508.44 2219.28 1508.44 Q2216.25 1508.44 2214.56 1509.94 Q2212.89 1511.45 2212.89 1514.13 Z\" fill=\"#000000\" fill-rule=\"evenodd\" fill-opacity=\"1\" /><path clip-path=\"url(#clip190)\" d=\"M 0 0 M2246.2 1508.44 Q2242.59 1508.44 2240.76 1512 Q2238.95 1515.55 2238.95 1522.67 Q2238.95 1529.78 2240.76 1533.35 Q2242.59 1536.89 2246.2 1536.89 Q2249.83 1536.89 2251.64 1533.35 Q2253.47 1529.78 2253.47 1522.67 Q2253.47 1515.55 2251.64 1512 Q2249.83 1508.44 2246.2 1508.44 M2246.2 1504.73 Q2252.01 1504.73 2255.07 1509.34 Q2258.14 1513.92 2258.14 1522.67 Q2258.14 1531.4 2255.07 1536.01 Q2252.01 1540.59 2246.2 1540.59 Q2240.39 1540.59 2237.31 1536.01 Q2234.26 1531.4 2234.26 1522.67 Q2234.26 1513.92 2237.31 1509.34 Q2240.39 1504.73 2246.2 1504.73 Z\" fill=\"#000000\" fill-rule=\"evenodd\" fill-opacity=\"1\" /><path clip-path=\"url(#clip190)\" d=\"M 0 0 M98.6401 1431.51 Q95.029 1431.51 93.2003 1435.08 Q91.3948 1438.62 91.3948 1445.75 Q91.3948 1452.86 93.2003 1456.42 Q95.029 1459.96 98.6401 1459.96 Q102.274 1459.96 104.08 1456.42 Q105.909 1452.86 105.909 1445.75 Q105.909 1438.62 104.08 1435.08 Q102.274 1431.51 98.6401 1431.51 M98.6401 1427.81 Q104.45 1427.81 107.506 1432.42 Q110.584 1437 110.584 1445.75 Q110.584 1454.48 107.506 1459.08 Q104.45 1463.67 98.6401 1463.67 Q92.8299 1463.67 89.7512 1459.08 Q86.6957 1454.48 86.6957 1445.75 Q86.6957 1437 89.7512 1432.42 Q92.8299 1427.81 98.6401 1427.81 Z\" fill=\"#000000\" fill-rule=\"evenodd\" fill-opacity=\"1\" /><path clip-path=\"url(#clip190)\" d=\"M 0 0 M115.654 1457.12 L120.538 1457.12 L120.538 1463 L115.654 1463 L115.654 1457.12 Z\" fill=\"#000000\" fill-rule=\"evenodd\" fill-opacity=\"1\" /><path clip-path=\"url(#clip190)\" d=\"M 0 0 M135.607 1431.51 Q131.996 1431.51 130.168 1435.08 Q128.362 1438.62 128.362 1445.75 Q128.362 1452.86 130.168 1456.42 Q131.996 1459.96 135.607 1459.96 Q139.242 1459.96 141.047 1456.42 Q142.876 1452.86 142.876 1445.75 Q142.876 1438.62 141.047 1435.08 Q139.242 1431.51 135.607 1431.51 M135.607 1427.81 Q141.418 1427.81 144.473 1432.42 Q147.552 1437 147.552 1445.75 Q147.552 1454.48 144.473 1459.08 Q141.418 1463.67 135.607 1463.67 Q129.797 1463.67 126.719 1459.08 Q123.663 1454.48 123.663 1445.75 Q123.663 1437 126.719 1432.42 Q129.797 1427.81 135.607 1427.81 Z\" fill=\"#000000\" fill-rule=\"evenodd\" fill-opacity=\"1\" /><path clip-path=\"url(#clip190)\" d=\"M 0 0 M95.2605 1216.61 L111.58 1216.61 L111.58 1220.54 L89.6355 1220.54 L89.6355 1216.61 Q92.2975 1213.85 96.8808 1209.22 Q101.487 1204.57 102.668 1203.23 Q104.913 1200.7 105.793 1198.97 Q106.696 1197.21 106.696 1195.52 Q106.696 1192.76 104.751 1191.03 Q102.83 1189.29 99.728 1189.29 Q97.529 1189.29 95.0753 1190.06 Q92.6447 1190.82 89.867 1192.37 L89.867 1187.65 Q92.691 1186.51 95.1447 1185.94 Q97.5984 1185.36 99.6354 1185.36 Q105.006 1185.36 108.2 1188.04 Q111.395 1190.73 111.395 1195.22 Q111.395 1197.35 110.584 1199.27 Q109.797 1201.17 107.691 1203.76 Q107.112 1204.43 104.01 1207.65 Q100.909 1210.84 95.2605 1216.61 Z\" fill=\"#000000\" fill-rule=\"evenodd\" fill-opacity=\"1\" /><path clip-path=\"url(#clip190)\" d=\"M 0 0 M116.649 1214.66 L121.533 1214.66 L121.533 1220.54 L116.649 1220.54 L116.649 1214.66 Z\" fill=\"#000000\" fill-rule=\"evenodd\" fill-opacity=\"1\" /><path clip-path=\"url(#clip190)\" d=\"M 0 0 M126.649 1185.98 L145.006 1185.98 L145.006 1189.92 L130.932 1189.92 L130.932 1198.39 Q131.95 1198.04 132.969 1197.88 Q133.987 1197.7 135.006 1197.7 Q140.793 1197.7 144.172 1200.87 Q147.552 1204.04 147.552 1209.45 Q147.552 1215.03 144.08 1218.13 Q140.607 1221.21 134.288 1221.21 Q132.112 1221.21 129.844 1220.84 Q127.598 1220.47 125.191 1219.73 L125.191 1215.03 Q127.274 1216.17 129.496 1216.72 Q131.719 1217.28 134.195 1217.28 Q138.2 1217.28 140.538 1215.17 Q142.876 1213.07 142.876 1209.45 Q142.876 1205.84 140.538 1203.74 Q138.2 1201.63 134.195 1201.63 Q132.32 1201.63 130.445 1202.05 Q128.594 1202.46 126.649 1203.34 L126.649 1185.98 Z\" fill=\"#000000\" fill-rule=\"evenodd\" fill-opacity=\"1\" /><path clip-path=\"url(#clip190)\" d=\"M 0 0 M89.6818 943.529 L108.038 943.529 L108.038 947.464 L93.9642 947.464 L93.9642 955.936 Q94.9827 955.589 96.0012 955.427 Q97.0197 955.242 98.0382 955.242 Q103.825 955.242 107.205 958.413 Q110.584 961.584 110.584 967.001 Q110.584 972.58 107.112 975.681 Q103.64 978.76 97.3206 978.76 Q95.1447 978.76 92.8762 978.39 Q90.6309 978.019 88.2235 977.279 L88.2235 972.58 Q90.3068 973.714 92.529 974.269 Q94.7512 974.825 97.2281 974.825 Q101.233 974.825 103.571 972.718 Q105.909 970.612 105.909 967.001 Q105.909 963.39 103.571 961.283 Q101.233 959.177 97.2281 959.177 Q95.3531 959.177 93.4781 959.593 Q91.6262 960.01 89.6818 960.89 L89.6818 943.529 Z\" fill=\"#000000\" fill-rule=\"evenodd\" fill-opacity=\"1\" /><path clip-path=\"url(#clip190)\" d=\"M 0 0 M115.654 972.209 L120.538 972.209 L120.538 978.089 L115.654 978.089 L115.654 972.209 Z\" fill=\"#000000\" fill-rule=\"evenodd\" fill-opacity=\"1\" /><path clip-path=\"url(#clip190)\" d=\"M 0 0 M135.607 946.607 Q131.996 946.607 130.168 950.172 Q128.362 953.714 128.362 960.843 Q128.362 967.95 130.168 971.515 Q131.996 975.056 135.607 975.056 Q139.242 975.056 141.047 971.515 Q142.876 967.95 142.876 960.843 Q142.876 953.714 141.047 950.172 Q139.242 946.607 135.607 946.607 M135.607 942.904 Q141.418 942.904 144.473 947.51 Q147.552 952.094 147.552 960.843 Q147.552 969.57 144.473 974.177 Q141.418 978.76 135.607 978.76 Q129.797 978.76 126.719 974.177 Q123.663 969.57 123.663 960.843 Q123.663 952.094 126.719 947.51 Q129.797 942.904 135.607 942.904 Z\" fill=\"#000000\" fill-rule=\"evenodd\" fill-opacity=\"1\" /><path clip-path=\"url(#clip190)\" d=\"M 0 0 M89.3577 701.075 L111.58 701.075 L111.58 703.066 L99.0336 735.635 L94.1494 735.635 L105.955 705.01 L89.3577 705.01 L89.3577 701.075 Z\" fill=\"#000000\" fill-rule=\"evenodd\" fill-opacity=\"1\" /><path clip-path=\"url(#clip190)\" d=\"M 0 0 M116.649 729.756 L121.533 729.756 L121.533 735.635 L116.649 735.635 L116.649 729.756 Z\" fill=\"#000000\" fill-rule=\"evenodd\" fill-opacity=\"1\" /><path clip-path=\"url(#clip190)\" d=\"M 0 0 M126.649 701.075 L145.006 701.075 L145.006 705.01 L130.932 705.01 L130.932 713.483 Q131.95 713.135 132.969 712.973 Q133.987 712.788 135.006 712.788 Q140.793 712.788 144.172 715.959 Q147.552 719.131 147.552 724.547 Q147.552 730.126 144.08 733.228 Q140.607 736.307 134.288 736.307 Q132.112 736.307 129.844 735.936 Q127.598 735.566 125.191 734.825 L125.191 730.126 Q127.274 731.26 129.496 731.816 Q131.719 732.371 134.195 732.371 Q138.2 732.371 140.538 730.265 Q142.876 728.158 142.876 724.547 Q142.876 720.936 140.538 718.83 Q138.2 716.723 134.195 716.723 Q132.32 716.723 130.445 717.14 Q128.594 717.557 126.649 718.436 L126.649 701.075 Z\" fill=\"#000000\" fill-rule=\"evenodd\" fill-opacity=\"1\" /><path clip-path=\"url(#clip190)\" d=\"M 0 0 M63.6634 489.247 L71.3023 489.247 L71.3023 462.881 L62.9921 464.548 L62.9921 460.288 L71.256 458.622 L75.9319 458.622 L75.9319 489.247 L83.5707 489.247 L83.5707 493.182 L63.6634 493.182 L63.6634 489.247 Z\" fill=\"#000000\" fill-rule=\"evenodd\" fill-opacity=\"1\" /><path clip-path=\"url(#clip190)\" d=\"M 0 0 M98.6401 461.701 Q95.029 461.701 93.2003 465.265 Q91.3948 468.807 91.3948 475.937 Q91.3948 483.043 93.2003 486.608 Q95.029 490.149 98.6401 490.149 Q102.274 490.149 104.08 486.608 Q105.909 483.043 105.909 475.937 Q105.909 468.807 104.08 465.265 Q102.274 461.701 98.6401 461.701 M98.6401 457.997 Q104.45 457.997 107.506 462.603 Q110.584 467.187 110.584 475.937 Q110.584 484.663 107.506 489.27 Q104.45 493.853 98.6401 493.853 Q92.8299 493.853 89.7512 489.27 Q86.6957 484.663 86.6957 475.937 Q86.6957 467.187 89.7512 462.603 Q92.8299 457.997 98.6401 457.997 Z\" fill=\"#000000\" fill-rule=\"evenodd\" fill-opacity=\"1\" /><path clip-path=\"url(#clip190)\" d=\"M 0 0 M115.654 487.302 L120.538 487.302 L120.538 493.182 L115.654 493.182 L115.654 487.302 Z\" fill=\"#000000\" fill-rule=\"evenodd\" fill-opacity=\"1\" /><path clip-path=\"url(#clip190)\" d=\"M 0 0 M135.607 461.701 Q131.996 461.701 130.168 465.265 Q128.362 468.807 128.362 475.937 Q128.362 483.043 130.168 486.608 Q131.996 490.149 135.607 490.149 Q139.242 490.149 141.047 486.608 Q142.876 483.043 142.876 475.937 Q142.876 468.807 141.047 465.265 Q139.242 461.701 135.607 461.701 M135.607 457.997 Q141.418 457.997 144.473 462.603 Q147.552 467.187 147.552 475.937 Q147.552 484.663 144.473 489.27 Q141.418 493.853 135.607 493.853 Q129.797 493.853 126.719 489.27 Q123.663 484.663 123.663 475.937 Q123.663 467.187 126.719 462.603 Q129.797 457.997 135.607 457.997 Z\" fill=\"#000000\" fill-rule=\"evenodd\" fill-opacity=\"1\" /><path clip-path=\"url(#clip190)\" d=\"M 0 0 M66.256 246.793 L73.8948 246.793 L73.8948 220.428 L65.5847 222.094 L65.5847 217.835 L73.8485 216.168 L78.5245 216.168 L78.5245 246.793 L86.1633 246.793 L86.1633 250.728 L66.256 250.728 L66.256 246.793 Z\" fill=\"#000000\" fill-rule=\"evenodd\" fill-opacity=\"1\" /><path clip-path=\"url(#clip190)\" d=\"M 0 0 M95.2605 246.793 L111.58 246.793 L111.58 250.728 L89.6355 250.728 L89.6355 246.793 Q92.2975 244.039 96.8808 239.409 Q101.487 234.756 102.668 233.414 Q104.913 230.891 105.793 229.154 Q106.696 227.395 106.696 225.705 Q106.696 222.951 104.751 221.215 Q102.83 219.479 99.728 219.479 Q97.529 219.479 95.0753 220.242 Q92.6447 221.006 89.867 222.557 L89.867 217.835 Q92.691 216.701 95.1447 216.122 Q97.5984 215.543 99.6354 215.543 Q105.006 215.543 108.2 218.229 Q111.395 220.914 111.395 225.404 Q111.395 227.534 110.584 229.455 Q109.797 231.353 107.691 233.946 Q107.112 234.617 104.01 237.835 Q100.909 241.029 95.2605 246.793 Z\" fill=\"#000000\" fill-rule=\"evenodd\" fill-opacity=\"1\" /><path clip-path=\"url(#clip190)\" d=\"M 0 0 M116.649 244.849 L121.533 244.849 L121.533 250.728 L116.649 250.728 L116.649 244.849 Z\" fill=\"#000000\" fill-rule=\"evenodd\" fill-opacity=\"1\" /><path clip-path=\"url(#clip190)\" d=\"M 0 0 M126.649 216.168 L145.006 216.168 L145.006 220.104 L130.932 220.104 L130.932 228.576 Q131.95 228.228 132.969 228.066 Q133.987 227.881 135.006 227.881 Q140.793 227.881 144.172 231.053 Q147.552 234.224 147.552 239.64 Q147.552 245.219 144.08 248.321 Q140.607 251.4 134.288 251.4 Q132.112 251.4 129.844 251.029 Q127.598 250.659 125.191 249.918 L125.191 245.219 Q127.274 246.353 129.496 246.909 Q131.719 247.464 134.195 247.464 Q138.2 247.464 140.538 245.358 Q142.876 243.252 142.876 239.64 Q142.876 236.029 140.538 233.923 Q138.2 231.816 134.195 231.816 Q132.32 231.816 130.445 232.233 Q128.594 232.65 126.649 233.529 L126.649 216.168 Z\" fill=\"#000000\" fill-rule=\"evenodd\" fill-opacity=\"1\" /><path clip-path=\"url(#clip192)\" d=\"\n",
       "M291.522 960.809 L291.522 1445.72 L430.184 1445.72 L430.184 960.809 L291.522 960.809 L291.522 960.809  Z\n",
       "  \" fill=\"#009af9\" fill-rule=\"evenodd\" fill-opacity=\"1\"/>\n",
       "<polyline clip-path=\"url(#clip192)\" style=\"stroke:#000000; stroke-width:4; stroke-opacity:1; fill:none\" points=\"\n",
       "  291.522,960.809 291.522,1445.72 430.184,1445.72 430.184,960.809 291.522,960.809 \n",
       "  \"/>\n",
       "<path clip-path=\"url(#clip192)\" d=\"\n",
       "M430.184 87.9763 L430.184 1445.72 L568.845 1445.72 L568.845 87.9763 L430.184 87.9763 L430.184 87.9763  Z\n",
       "  \" fill=\"#009af9\" fill-rule=\"evenodd\" fill-opacity=\"1\"/>\n",
       "<polyline clip-path=\"url(#clip192)\" style=\"stroke:#000000; stroke-width:4; stroke-opacity:1; fill:none\" points=\"\n",
       "  430.184,87.9763 430.184,1445.72 568.845,1445.72 568.845,87.9763 430.184,87.9763 \n",
       "  \"/>\n",
       "<path clip-path=\"url(#clip192)\" d=\"\n",
       "M568.845 281.939 L568.845 1445.72 L707.507 1445.72 L707.507 281.939 L568.845 281.939 L568.845 281.939  Z\n",
       "  \" fill=\"#009af9\" fill-rule=\"evenodd\" fill-opacity=\"1\"/>\n",
       "<polyline clip-path=\"url(#clip192)\" style=\"stroke:#000000; stroke-width:4; stroke-opacity:1; fill:none\" points=\"\n",
       "  568.845,281.939 568.845,1445.72 707.507,1445.72 707.507,281.939 568.845,281.939 \n",
       "  \"/>\n",
       "<path clip-path=\"url(#clip192)\" d=\"\n",
       "M707.507 1057.79 L707.507 1445.72 L846.169 1445.72 L846.169 1057.79 L707.507 1057.79 L707.507 1057.79  Z\n",
       "  \" fill=\"#009af9\" fill-rule=\"evenodd\" fill-opacity=\"1\"/>\n",
       "<polyline clip-path=\"url(#clip192)\" style=\"stroke:#000000; stroke-width:4; stroke-opacity:1; fill:none\" points=\"\n",
       "  707.507,1057.79 707.507,1445.72 846.169,1445.72 846.169,1057.79 707.507,1057.79 \n",
       "  \"/>\n",
       "<path clip-path=\"url(#clip192)\" d=\"\n",
       "M846.169 1057.79 L846.169 1445.72 L984.83 1445.72 L984.83 1057.79 L846.169 1057.79 L846.169 1057.79  Z\n",
       "  \" fill=\"#009af9\" fill-rule=\"evenodd\" fill-opacity=\"1\"/>\n",
       "<polyline clip-path=\"url(#clip192)\" style=\"stroke:#000000; stroke-width:4; stroke-opacity:1; fill:none\" points=\"\n",
       "  846.169,1057.79 846.169,1445.72 984.83,1445.72 984.83,1057.79 846.169,1057.79 \n",
       "  \"/>\n",
       "<path clip-path=\"url(#clip192)\" d=\"\n",
       "M984.83 1348.73 L984.83 1445.72 L1123.49 1445.72 L1123.49 1348.73 L984.83 1348.73 L984.83 1348.73  Z\n",
       "  \" fill=\"#009af9\" fill-rule=\"evenodd\" fill-opacity=\"1\"/>\n",
       "<polyline clip-path=\"url(#clip192)\" style=\"stroke:#000000; stroke-width:4; stroke-opacity:1; fill:none\" points=\"\n",
       "  984.83,1348.73 984.83,1445.72 1123.49,1445.72 1123.49,1348.73 984.83,1348.73 \n",
       "  \"/>\n",
       "<path clip-path=\"url(#clip192)\" d=\"\n",
       "M1123.49 1348.73 L1123.49 1445.72 L1262.15 1445.72 L1262.15 1348.73 L1123.49 1348.73 L1123.49 1348.73  Z\n",
       "  \" fill=\"#009af9\" fill-rule=\"evenodd\" fill-opacity=\"1\"/>\n",
       "<polyline clip-path=\"url(#clip192)\" style=\"stroke:#000000; stroke-width:4; stroke-opacity:1; fill:none\" points=\"\n",
       "  1123.49,1348.73 1123.49,1445.72 1262.15,1445.72 1262.15,1348.73 1123.49,1348.73 \n",
       "  \"/>\n",
       "<path clip-path=\"url(#clip192)\" d=\"\n",
       "M1262.15 1348.73 L1262.15 1445.72 L1400.82 1445.72 L1400.82 1348.73 L1262.15 1348.73 L1262.15 1348.73  Z\n",
       "  \" fill=\"#009af9\" fill-rule=\"evenodd\" fill-opacity=\"1\"/>\n",
       "<polyline clip-path=\"url(#clip192)\" style=\"stroke:#000000; stroke-width:4; stroke-opacity:1; fill:none\" points=\"\n",
       "  1262.15,1348.73 1262.15,1445.72 1400.82,1445.72 1400.82,1348.73 1262.15,1348.73 \n",
       "  \"/>\n",
       "<path clip-path=\"url(#clip192)\" d=\"\n",
       "M1400.82 1154.77 L1400.82 1445.72 L1539.48 1445.72 L1539.48 1154.77 L1400.82 1154.77 L1400.82 1154.77  Z\n",
       "  \" fill=\"#009af9\" fill-rule=\"evenodd\" fill-opacity=\"1\"/>\n",
       "<polyline clip-path=\"url(#clip192)\" style=\"stroke:#000000; stroke-width:4; stroke-opacity:1; fill:none\" points=\"\n",
       "  1400.82,1154.77 1400.82,1445.72 1539.48,1445.72 1539.48,1154.77 1400.82,1154.77 \n",
       "  \"/>\n",
       "<path clip-path=\"url(#clip192)\" d=\"\n",
       "M1539.48 1445.72 L1539.48 1445.72 L1678.14 1445.72 L1678.14 1445.72 L1539.48 1445.72 L1539.48 1445.72  Z\n",
       "  \" fill=\"#009af9\" fill-rule=\"evenodd\" fill-opacity=\"1\"/>\n",
       "<polyline clip-path=\"url(#clip192)\" style=\"stroke:#000000; stroke-width:4; stroke-opacity:1; fill:none\" points=\"\n",
       "  1539.48,1445.72 1539.48,1445.72 1678.14,1445.72 1539.48,1445.72 \n",
       "  \"/>\n",
       "<path clip-path=\"url(#clip192)\" d=\"\n",
       "M1678.14 1348.73 L1678.14 1445.72 L1816.8 1445.72 L1816.8 1348.73 L1678.14 1348.73 L1678.14 1348.73  Z\n",
       "  \" fill=\"#009af9\" fill-rule=\"evenodd\" fill-opacity=\"1\"/>\n",
       "<polyline clip-path=\"url(#clip192)\" style=\"stroke:#000000; stroke-width:4; stroke-opacity:1; fill:none\" points=\"\n",
       "  1678.14,1348.73 1678.14,1445.72 1816.8,1445.72 1816.8,1348.73 1678.14,1348.73 \n",
       "  \"/>\n",
       "<path clip-path=\"url(#clip192)\" d=\"\n",
       "M1816.8 1154.77 L1816.8 1445.72 L1955.46 1445.72 L1955.46 1154.77 L1816.8 1154.77 L1816.8 1154.77  Z\n",
       "  \" fill=\"#009af9\" fill-rule=\"evenodd\" fill-opacity=\"1\"/>\n",
       "<polyline clip-path=\"url(#clip192)\" style=\"stroke:#000000; stroke-width:4; stroke-opacity:1; fill:none\" points=\"\n",
       "  1816.8,1154.77 1816.8,1445.72 1955.46,1445.72 1955.46,1154.77 1816.8,1154.77 \n",
       "  \"/>\n",
       "<path clip-path=\"url(#clip192)\" d=\"\n",
       "M1955.46 1445.72 L1955.46 1445.72 L2094.12 1445.72 L2094.12 1445.72 L1955.46 1445.72 L1955.46 1445.72  Z\n",
       "  \" fill=\"#009af9\" fill-rule=\"evenodd\" fill-opacity=\"1\"/>\n",
       "<polyline clip-path=\"url(#clip192)\" style=\"stroke:#000000; stroke-width:4; stroke-opacity:1; fill:none\" points=\"\n",
       "  1955.46,1445.72 1955.46,1445.72 2094.12,1445.72 1955.46,1445.72 \n",
       "  \"/>\n",
       "<path clip-path=\"url(#clip192)\" d=\"\n",
       "M2094.12 1348.73 L2094.12 1445.72 L2232.79 1445.72 L2232.79 1348.73 L2094.12 1348.73 L2094.12 1348.73  Z\n",
       "  \" fill=\"#009af9\" fill-rule=\"evenodd\" fill-opacity=\"1\"/>\n",
       "<polyline clip-path=\"url(#clip192)\" style=\"stroke:#000000; stroke-width:4; stroke-opacity:1; fill:none\" points=\"\n",
       "  2094.12,1348.73 2094.12,1445.72 2232.79,1445.72 2232.79,1348.73 2094.12,1348.73 \n",
       "  \"/>\n",
       "<path clip-path=\"url(#clip190)\" d=\"\n",
       "M1989.74 251.724 L2280.76 251.724 L2280.76 130.764 L1989.74 130.764  Z\n",
       "  \" fill=\"#ffffff\" fill-rule=\"evenodd\" fill-opacity=\"1\"/>\n",
       "<polyline clip-path=\"url(#clip190)\" style=\"stroke:#000000; stroke-width:4; stroke-opacity:1; fill:none\" points=\"\n",
       "  1989.74,251.724 2280.76,251.724 2280.76,130.764 1989.74,130.764 1989.74,251.724 \n",
       "  \"/>\n",
       "<path clip-path=\"url(#clip190)\" d=\"\n",
       "M2013.74 215.436 L2157.74 215.436 L2157.74 167.052 L2013.74 167.052 L2013.74 215.436  Z\n",
       "  \" fill=\"#009af9\" fill-rule=\"evenodd\" fill-opacity=\"1\"/>\n",
       "<polyline clip-path=\"url(#clip190)\" style=\"stroke:#000000; stroke-width:4; stroke-opacity:1; fill:none\" points=\"\n",
       "  2013.74,215.436 2157.74,215.436 2157.74,167.052 2013.74,167.052 2013.74,215.436 \n",
       "  \"/>\n",
       "<path clip-path=\"url(#clip190)\" d=\"M 0 0 M2195.58 210.931 Q2193.77 215.561 2192.06 216.973 Q2190.35 218.385 2187.48 218.385 L2184.08 218.385 L2184.08 214.82 L2186.58 214.82 Q2188.33 214.82 2189.31 213.987 Q2190.28 213.154 2191.46 210.052 L2192.22 208.107 L2181.74 182.598 L2186.25 182.598 L2194.35 202.876 L2202.46 182.598 L2206.97 182.598 L2195.58 210.931 Z\" fill=\"#000000\" fill-rule=\"evenodd\" fill-opacity=\"1\" /><path clip-path=\"url(#clip190)\" d=\"M 0 0 M2212.85 204.589 L2220.49 204.589 L2220.49 178.223 L2212.18 179.89 L2212.18 175.631 L2220.44 173.964 L2225.12 173.964 L2225.12 204.589 L2232.76 204.589 L2232.76 208.524 L2212.85 208.524 L2212.85 204.589 Z\" fill=\"#000000\" fill-rule=\"evenodd\" fill-opacity=\"1\" /></svg>\n"
      ]
     },
     "execution_count": 3,
     "metadata": {},
     "output_type": "execute_result"
    }
   ],
   "source": [
    "students = [15,19,18,14,13,27,16,65,15,31,22,15,24,\n",
    "    22,51,24,20,45,22,33,24,27,18,66,15,18,39,10,30,\n",
    "    13,19,28,53,28,65,30,20,21,20,18,\n",
    "    20,23,18,41,52,75,19,63,14,18]\n",
    "\n",
    "using Plots\n",
    "histogram(students, bins=20)"
   ]
  },
  {
   "cell_type": "markdown",
   "metadata": {},
   "source": [
    "Approximately, what would be the most common age? We can get this visually or through the mode. "
   ]
  },
  {
   "cell_type": "code",
   "execution_count": 4,
   "metadata": {},
   "outputs": [
    {
     "data": {
      "text/plain": [
       "18"
      ]
     },
     "execution_count": 4,
     "metadata": {},
     "output_type": "execute_result"
    }
   ],
   "source": [
    "using StatsBase\n",
    "mode(students)"
   ]
  },
  {
   "cell_type": "markdown",
   "metadata": {},
   "source": [
    "What proportions of students are over 60 years old? Again we can do it visually or through data."
   ]
  },
  {
   "cell_type": "code",
   "execution_count": 10,
   "metadata": {},
   "outputs": [
    {
     "data": {
      "text/plain": [
       "0.1"
      ]
     },
     "execution_count": 10,
     "metadata": {},
     "output_type": "execute_result"
    }
   ],
   "source": [
    "students_over_60 = count(students.>60)\n",
    "proportion_over_60 = students_over_60 / length(students)"
   ]
  },
  {
   "cell_type": "markdown",
   "metadata": {},
   "source": [
    "And what percentage is under 60?"
   ]
  },
  {
   "cell_type": "code",
   "execution_count": 11,
   "metadata": {},
   "outputs": [
    {
     "data": {
      "text/plain": [
       "90.0"
      ]
     },
     "execution_count": 11,
     "metadata": {},
     "output_type": "execute_result"
    }
   ],
   "source": [
    "(length(students)-students_over_60)/length(students)*100"
   ]
  },
  {
   "cell_type": "markdown",
   "metadata": {},
   "source": [
    "Let's calculate frequency distribution of the following blood types. It's a long exercise manually but a short one using Julia's _FreqTables_ library."
   ]
  },
  {
   "cell_type": "code",
   "execution_count": 4,
   "metadata": {},
   "outputs": [
    {
     "name": "stdout",
     "output_type": "stream",
     "text": [
      "4-element Named Array{Int64,1}\n",
      "Dim1  │ \n",
      "──────┼───\n",
      "A     │ 13\n",
      "AB    │  2\n",
      "B     │  4\n",
      "O     │ 16\n"
     ]
    },
    {
     "data": {
      "text/plain": [
       "4-element Named Array{Float64,1}\n",
       "Dim1  │ \n",
       "──────┼──────────\n",
       "A     │  0.371429\n",
       "AB    │ 0.0571429\n",
       "B     │  0.114286\n",
       "O     │  0.457143"
      ]
     },
     "execution_count": 4,
     "metadata": {},
     "output_type": "execute_result"
    }
   ],
   "source": [
    "using FreqTables\n",
    "blood_types = [\"O\",\"O\",\"A\",\"O\",\"O\",\"A\",\"A\",\"B\",\"A\",\"O\",\"O\",\"O\",\"O\",\"AB\",\"O\",\"A\",\"O\",\"A\",\"O\",\"A\",\"B\",\"A\",\"O\",\"A\",\"B\",\"AB\",\"O\",\"A\",\"O\",\"B\",\"A\",\"A\",\"O\",\"A\",\"O\"]\n",
    "println(freqtable(blood_types))\n",
    "\n",
    "prop(freqtable(blood_types))\n"
   ]
  },
  {
   "cell_type": "code",
   "execution_count": null,
   "metadata": {},
   "outputs": [],
   "source": []
  }
 ],
 "metadata": {
  "kernelspec": {
   "display_name": "Julia 1.0.5",
   "language": "julia",
   "name": "julia-1.0"
  },
  "language_info": {
   "file_extension": ".jl",
   "mimetype": "application/julia",
   "name": "julia",
   "version": "1.0.5"
  }
 },
 "nbformat": 4,
 "nbformat_minor": 2
}
