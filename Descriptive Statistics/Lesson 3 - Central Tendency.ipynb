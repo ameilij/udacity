{
 "cells": [
  {
   "cell_type": "markdown",
   "metadata": {},
   "source": [
    "# Lesson 3: Central Tendency\n",
    "\n",
    "The value at which frequewncy is highest is called the **mode**. \n",
    "\n",
    "The value in the middle of the distribution is the **median**.\n",
    "\n",
    "The **average** is a special kind of value.\n",
    "\n",
    "In a histogram, the bin (a range) with the highest frequency is the mode. An uniform distribution has no mode, and some distributions have many. \n",
    "\n",
    "Categorical data can be a mode. There is no formula for a mode however. "
   ]
  },
  {
   "cell_type": "markdown",
   "metadata": {},
   "source": [
    "## The Mean\n",
    "Let's look at the mean or average. \n",
    "\n",
    "MEAN = $\\overline{x}$\n",
    "\n",
    "$\\Sigma$ = sigma\n",
    "\n",
    "$\\overline{x}$ = $\\frac{\\Sigma x}{n}$ for a sample\n",
    "\n",
    "$\\mu$ = $\\frac{\\Sigma x}{N}$ for a population\n",
    "\n",
    "In other words\n",
    "\n",
    "$\\overline{x}$ = $\\frac{x_1 + x_2 + \\dots + x_n}{n}$\n"
   ]
  },
  {
   "cell_type": "markdown",
   "metadata": {},
   "source": [
    "The following are properties of the mean:\n",
    "\n",
    "1. All scores of a distribution affect the mean.\n",
    "2. The mean can be described with a formula.\n",
    "3. Many samples from a population will have similar means.\n",
    "4. The mean from a sample can be usaed to make inferences about the population it came from. \n",
    "5. Adding an extreme value to the data set will affect the mean. "
   ]
  },
  {
   "cell_type": "markdown",
   "metadata": {},
   "source": [
    "An **outlier** is a extreme value that bias the data. Outliers don't affect the mode, but affect the mean.\n",
    "\n",
    "We said there is no formula for the mode, but we have guidelines for chosing the mode. \n",
    "\n",
    "* When a data set has even values, chose the mid-point of 2-centra values (take the average of the two.)\n",
    "\n",
    "* When the data is odd, just take the data point in the middle. \n",
    "\n",
    "The median helps find center even when outliers (so it's what we call robust value.) It's the best measure of central tendencies with highly skewed distributions. \n",
    "\n",
    "IN A SKEWED DISTRIBUTION the mode will always be smaller than the median which will be smaller than the mean. In other words:\n",
    "\n",
    "SKEWED mode < median < mean\n",
    "\n",
    "IN A GAUSSIAN DISTRIBUTION the mode, median, and mean will be similar in the center _but not exactly the same number!_\n",
    "\n",
    "GAUSSIAN mode = median = mean\n",
    "\n",
    "The notation for median is for _n_ even:\n",
    "\n",
    "$\\frac{X\\frac{n}{2} + X\\frac{n}{2}+1}{2}$\n",
    "\n",
    "And for _n_ odd:\n",
    "\n",
    "$X\\frac{n+1}{2}$\n",
    "\n",
    "\n"
   ]
  }
 ],
 "metadata": {
  "kernelspec": {
   "display_name": "Julia 1.0.5",
   "language": "julia",
   "name": "julia-1.0"
  },
  "language_info": {
   "file_extension": ".jl",
   "mimetype": "application/julia",
   "name": "julia",
   "version": "1.0.5"
  }
 },
 "nbformat": 4,
 "nbformat_minor": 2
}
